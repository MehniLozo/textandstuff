{
  "nbformat": 4,
  "nbformat_minor": 0,
  "metadata": {
    "colab": {
      "provenance": []
    },
    "kernelspec": {
      "name": "python3",
      "display_name": "Python 3"
    },
    "language_info": {
      "name": "python"
    }
  },
  "cells": [
    {
      "cell_type": "code",
      "source": [
        "%time\n",
        "# !curl -L -s --compressed https://www.statmt.org/europarl/v7/fr-en.tgz\n",
        "!curl -L -s --compressed https://www.statmt.org/europarl/v7/fr-en.tgz | tar -xzvf -\n"
      ],
      "metadata": {
        "colab": {
          "base_uri": "https://localhost:8080/"
        },
        "id": "EGg3dTSf5swK",
        "outputId": "3b987ad1-27b8-4ce4-be03-99f3d4d9a83e"
      },
      "execution_count": 16,
      "outputs": [
        {
          "output_type": "stream",
          "name": "stdout",
          "text": [
            "CPU times: user 3 µs, sys: 0 ns, total: 3 µs\n",
            "Wall time: 8.11 µs\n",
            "europarl-v7.fr-en.en\n",
            "europarl-v7.fr-en.fr\n"
          ]
        }
      ]
    },
    {
      "cell_type": "code",
      "source": [
        "import os\n",
        "files = os.listdir('/content')\n",
        "files"
      ],
      "metadata": {
        "colab": {
          "base_uri": "https://localhost:8080/"
        },
        "id": "vWt1pkEG6tmM",
        "outputId": "4cccd45a-d291-422e-9b4c-d52980cf3412"
      },
      "execution_count": 18,
      "outputs": [
        {
          "output_type": "execute_result",
          "data": {
            "text/plain": [
              "['.config', 'europarl-v7.fr-en.en', 'europarl-v7.fr-en.fr', 'sample_data']"
            ]
          },
          "metadata": {},
          "execution_count": 18
        }
      ]
    },
    {
      "cell_type": "code",
      "execution_count": 19,
      "metadata": {
        "id": "EvW_B6zyhsxN"
      },
      "outputs": [],
      "source": [
        "import pickle\n",
        "from pickle import dump"
      ]
    },
    {
      "cell_type": "code",
      "source": [
        "def load(file_name):\n",
        "  file = open(file_name, mode='rt',encoding='utf-8')\n",
        "  t = file.read()\n",
        "  file.close()\n",
        "  return t"
      ],
      "metadata": {
        "id": "mSBlYy2ElwH0"
      },
      "execution_count": 20,
      "outputs": []
    },
    {
      "cell_type": "code",
      "source": [
        "def sentencize(doc):\n",
        "  return doc.strip().split('\\n')"
      ],
      "metadata": {
        "id": "wm8cecDgl_jR"
      },
      "execution_count": 21,
      "outputs": []
    },
    {
      "cell_type": "code",
      "source": [
        "def shortest_longest_length(sentences):\n",
        "  lengths = [len(s.split()) for s in sentences]\n",
        "  return min(lengths),max(lengths)"
      ],
      "metadata": {
        "id": "lDPKZ30MmH2w"
      },
      "execution_count": 22,
      "outputs": []
    },
    {
      "cell_type": "code",
      "source": [
        "import re\n",
        "import string\n",
        "import unicodedata\n",
        "\n",
        "def clean_lines(lines):\n",
        "  cleaned_list= list()\n",
        "  re_print = re.compile('[^%s]'% re.escape(string.printable))\n",
        "\n",
        "  table = str.maketrans('','',string.punctuation)\n",
        "\n",
        "  for line in lines:\n",
        "    line = unicodedata.normalize('NFD',line).encode('ascii','ignore')\n",
        "    line = line.decode('UTF-8').split()\n",
        "    line = [word.lower() for word in line]\n",
        "    line = [word.translate(table) for word in line]\n",
        "    line= [re_print.sub('',w) for w in line]\n",
        "\n",
        "    line = [word for word in line if word.isalpha()]\n",
        "    cleaned_list.append(' '.join(line))\n",
        "  return cleaned_list"
      ],
      "metadata": {
        "id": "y0m7hGYumaTV"
      },
      "execution_count": 23,
      "outputs": []
    },
    {
      "cell_type": "code",
      "source": [
        "def process(lang,file_name):\n",
        "  doc = load(file_name)\n",
        "  sents = sentencize(doc)\n",
        "  minlen, maxlen = shortest_longest_length(sents)\n",
        "  print(lang,\": sentences = %d, min=%d, max=%d\"% (len(sents),minlen,maxlen))\n",
        "  clean = clean_lines(sents)\n",
        "  saving_file = lang+'.pkl'\n",
        "  out_file = open(saving_file,'wb')\n",
        "  pickle.dump(clean,out_file)\n",
        "  out_file.close()\n",
        "  print(saving_file, \" saved\")"
      ],
      "metadata": {
        "id": "mPSz5KEu-8qA"
      },
      "execution_count": 36,
      "outputs": []
    },
    {
      "cell_type": "code",
      "source": [
        "process('English','europarl-v7.fr-en.en')"
      ],
      "metadata": {
        "colab": {
          "base_uri": "https://localhost:8080/"
        },
        "id": "yrkE94j53m9u",
        "outputId": "4945d946-ef1d-4cdb-c63d-b5e9d1330649"
      },
      "execution_count": 37,
      "outputs": [
        {
          "output_type": "stream",
          "name": "stdout",
          "text": [
            "English : sentences = 2007723, min=0, max=668\n",
            "English.pkl  saved\n"
          ]
        }
      ]
    },
    {
      "cell_type": "code",
      "source": [
        "process('French','europarl-v7.fr-en.fr')"
      ],
      "metadata": {
        "colab": {
          "base_uri": "https://localhost:8080/"
        },
        "id": "AHeO2Nv09li1",
        "outputId": "251cc69e-c79e-4990-80d7-ec0cdd772a50"
      },
      "execution_count": 38,
      "outputs": [
        {
          "output_type": "stream",
          "name": "stdout",
          "text": [
            "French : sentences = 2007723, min=0, max=693\n",
            "French.pkl  saved\n"
          ]
        }
      ]
    },
    {
      "cell_type": "code",
      "source": [
        "from pickle import load\n",
        "from pickle import dump\n",
        "from collections import Counter\n",
        "\n",
        "def load_clean_sents(file_name):\n",
        "  return load(open(file_name,'rb'))\n",
        "\n",
        "def save_clean_sents(sents,file_name):\n",
        "  dump(sents, open(file_name,'wb'))\n",
        "  print('Saved: %s' % (file_name))\n",
        "\n",
        "def vocab_table(lines):\n",
        "  vocab = Counter()\n",
        "  for line in lines:\n",
        "    tokens = line.split()\n",
        "    vocab.update(tokens)\n",
        "  return vocab\n",
        "\n",
        "def trim_vocab(vocab, min_occurence): #Threshold\n",
        "  tokens =[ k for k, c in vocab.items() if c>= min_occurence]\n",
        "  return set(tokens)\n",
        "\n",
        "def out_vocab(lines, vocab):\n",
        "  new_lines = list()\n",
        "  for line in lines:\n",
        "    new_tokens = list()\n",
        "    for token in line.split():\n",
        "      if token in vocab:\n",
        "        new_tokens.append(token)\n",
        "      else:\n",
        "        new_tokens.append('unk')\n",
        "    new_line = ' '.join(new_tokens)\n",
        "    new_lines.append(new_line)\n",
        "  return new_lines"
      ],
      "metadata": {
        "id": "rTwg5Y5G-ssp"
      },
      "execution_count": 41,
      "outputs": []
    },
    {
      "cell_type": "markdown",
      "source": [
        "# Showing Processed Raw Data\n",
        "As we are translating French-English , sentences and lines of both sides are called differently. French ones is the \"Sentence\" to translate to & English is the \"Reference\""
      ],
      "metadata": {
        "id": "LQrVKU1xKU-P"
      }
    },
    {
      "cell_type": "code",
      "source": [
        "file_name = 'English.pkl'\n",
        "lines = load_clean_sents(file_name)\n",
        "vocab = vocab_table(lines)\n",
        "print(\"EN Vocab: %d\"%len(vocab))\n",
        "vocab = trim_vocab(vocab,5)\n",
        "print(\"Trimmed EN Vocab: %d\"%len(vocab))\n",
        "lines = out_vocab(lines,vocab)\n",
        "\n",
        "file_name = 'en_vocab.pkl'\n",
        "save_clean_sents(lines,file_name)\n",
        "\n",
        "for i in range(20):\n",
        "  print(\"line\",i,\":\",lines[i])"
      ],
      "metadata": {
        "colab": {
          "base_uri": "https://localhost:8080/"
        },
        "id": "v6gGt6H_F8_W",
        "outputId": "45b5586d-8202-4512-8401-334d8f0fc49a"
      },
      "execution_count": 44,
      "outputs": [
        {
          "output_type": "stream",
          "name": "stdout",
          "text": [
            "EN Vocab: 105357\n",
            "Trimmed EN Vocab: 41746\n",
            "Saved: en_vocab.pkl\n",
            "line 0 : resumption of the session\n",
            "line 1 : i declare resumed the session of the european parliament adjourned on friday december and i would like once again to wish you a happy new year in the hope that you enjoyed a pleasant festive period\n",
            "line 2 : although as you will have seen the dreaded millennium bug failed to materialise still the people in a number of countries suffered a series of natural disasters that truly were dreadful\n",
            "line 3 : you have requested a debate on this subject in the course of the next few days during this partsession\n",
            "line 4 : in the meantime i should like to observe a minute s silence as a number of members have requested on behalf of all the victims concerned particularly those of the terrible storms in the various countries of the european union\n",
            "line 5 : please rise then for this minute s silence\n",
            "line 6 : the house rose and observed a minute s silence\n",
            "line 7 : madam president on a point of order\n",
            "line 8 : you will be aware from the press and television that there have been a number of bomb explosions and killings in sri lanka\n",
            "line 9 : one of the people assassinated very recently in sri lanka was mr unk unk who had visited the european parliament just a few months ago\n",
            "line 10 : would it be appropriate for you madam president to write a letter to the sri lankan president expressing parliaments regret at his and the other violent deaths in sri lanka and urging her to do everything she possibly can to seek a peaceful reconciliation to a very difficult situation\n",
            "line 11 : yes mr evans i feel an initiative of the type you have just suggested would be entirely appropriate\n",
            "line 12 : if the house agrees i shall do as mr evans has suggested\n",
            "line 13 : madam president on a point of order\n",
            "line 14 : i would like your advice about rule concerning inadmissibility\n",
            "line 15 : my question relates to something that will come up on thursday and which i will then raise again\n",
            "line 16 : the cunha report on multiannual guidance programmes comes before parliament on thursday and contains a proposal in paragraph that a form of quota penalties should be introduced for countries which fail to meet their fleet reduction targets annually\n",
            "line 17 : it says that this should be done despite the principle of relative stability\n",
            "line 18 : i believe that the principle of relative stability is a fundamental legal principle of the common fisheries policy and a proposal to subvert it would be legally inadmissible\n",
            "line 19 : i want to know whether one can raise an objection of that kind to what is merely a report not a legislative proposal and whether that is something i can competently do on thursday\n"
          ]
        }
      ]
    },
    {
      "cell_type": "code",
      "source": [
        "file_name = 'French.pkl'\n",
        "lines = load_clean_sents(file_name)\n",
        "vocab = vocab_table(lines)\n",
        "print(\"FR Vocab: %d\"%len(vocab))\n",
        "vocab = trim_vocab(vocab,5)\n",
        "print(\"Trimmed FR Vocab: %d\"%len(vocab))\n",
        "lines = out_vocab(lines,vocab)\n",
        "\n",
        "file_name = 'fr_vocab.pkl'\n",
        "save_clean_sents(lines,file_name)\n",
        "\n",
        "for i in range(20):\n",
        "  print(\"line\",i,\":\",lines[i])"
      ],
      "metadata": {
        "colab": {
          "base_uri": "https://localhost:8080/"
        },
        "id": "ZNBiCu8uIz2-",
        "outputId": "5e57a05c-1792-46eb-fe85-9d6603c21049"
      },
      "execution_count": 46,
      "outputs": [
        {
          "output_type": "stream",
          "name": "stdout",
          "text": [
            "FR Vocab: 141642\n",
            "Trimmed FR Vocab: 58800\n",
            "Saved: fr_vocab.pkl\n",
            "line 0 : reprise de la session\n",
            "line 1 : je declare reprise la session du parlement europeen qui avait ete interrompue le vendredi decembre dernier et je vous renouvelle tous mes vux en esperant que vous avez passe de bonnes vacances\n",
            "line 2 : comme vous avez pu le constater le grand bogue de lan ne sest pas produit en revanche les citoyens dun certain nombre de nos pays ont ete victimes de catastrophes naturelles qui ont vraiment ete terribles\n",
            "line 3 : vous avez souhaite un debat a ce sujet dans les prochains jours au cours de cette periode de session\n",
            "line 4 : en attendant je souhaiterais comme un certain nombre de collegues me lont demande que nous observions une minute de silence pour toutes les victimes des tempetes notamment dans les differents pays de lunion europeenne qui ont ete touches\n",
            "line 5 : je vous invite a vous lever pour cette minute de silence\n",
            "line 6 : le parlement debout observe une minute de silence\n",
            "line 7 : madame la presidente cest une motion de procedure\n",
            "line 8 : vous avez probablement appris par la presse et par la television que plusieurs attentats a la bombe et crimes ont ete perpetres au sri lanka\n",
            "line 9 : lune des personnes qui vient detre assassinee au sri lanka est m unk unk qui avait rendu visite au parlement europeen il y a quelques mois a peine\n",
            "line 10 : ne pensezvous pas madame la presidente quil conviendrait decrire une lettre au president du sri lanka pour lui communiquer que le parlement deplore les morts violentes dont celle de m unk et pour linviter instamment a faire tout ce qui est en son pouvoir pour chercher une reconciliation pacifique et mettre un terme a cette situation particulierement difficile\n",
            "line 11 : oui monsieur evans je pense quune initiative dans le sens que vous venez de suggerer serait tout a fait appropriee\n",
            "line 12 : si lassemblee en est daccord je ferai comme m evans la suggere\n",
            "line 13 : madame la presidente cest une motion de procedure\n",
            "line 14 : je voudrais vous demander un conseil au sujet de larticle qui concerne lirrecevabilite\n",
            "line 15 : ma question porte sur un sujet qui est a lordre du jour du jeudi et que je souleverai donc une nouvelle fois\n",
            "line 16 : le paragraphe du rapport cunha sur les programmes dorientation pluriannuels qui sera soumis au parlement ce jeudi propose dintroduire des sanctions applicables aux pays qui ne respectent pas les objectifs annuels de reduction de leur flotte\n",
            "line 17 : il precise que cela devrait etre fait malgre le principe de stabilite relative\n",
            "line 18 : a mon sens le principe de stabilite relative est un principe juridique fondamental de la politique commune de la peche et toute proposition le bouleversant serait juridiquement irrecevable\n",
            "line 19 : je voudrais savoir si lon peut avancer une objection de ce type a ce qui nest quun rapport pas une proposition legislative et si je suis habilite a le faire ce jeudi\n"
          ]
        }
      ]
    },
    {
      "cell_type": "markdown",
      "source": [
        "# BLEU Evaluation\n",
        "\n"
      ],
      "metadata": {
        "id": "kOdcHVxCVjzH"
      }
    },
    {
      "cell_type": "code",
      "source": [
        "from nltk.translate.bleu_score import sentence_bleu\n",
        "from nltk.translate.bleu_score import SmoothingFunction\n",
        "\n",
        "reference = [['the', 'vip', 'is','in', 'airport'], ['vip', 'is' 'in','airport']]\n",
        "candidate = ['the', 'vip', 'is','in', 'airport']\n",
        "sentence_bleu(reference, candidate)\n"
      ],
      "metadata": {
        "colab": {
          "base_uri": "https://localhost:8080/"
        },
        "id": "vDJVy2zyKTEd",
        "outputId": "f1c95c45-e8d3-4aad-9788-cd2b141dd161"
      },
      "execution_count": 48,
      "outputs": [
        {
          "output_type": "execute_result",
          "data": {
            "text/plain": [
              "1.0"
            ]
          },
          "metadata": {},
          "execution_count": 48
        }
      ]
    },
    {
      "cell_type": "code",
      "source": [
        "candidate_2 = ['the','vip','located','airport']\n",
        "sentence_bleu(reference, candidate_2)"
      ],
      "metadata": {
        "colab": {
          "base_uri": "https://localhost:8080/"
        },
        "id": "cc4GKqafXd0A",
        "outputId": "98d6c985-3041-4f63-80bf-8ace7fb8b9f8"
      },
      "execution_count": 50,
      "outputs": [
        {
          "output_type": "stream",
          "name": "stderr",
          "text": [
            "/usr/local/lib/python3.10/dist-packages/nltk/translate/bleu_score.py:552: UserWarning: \n",
            "The hypothesis contains 0 counts of 3-gram overlaps.\n",
            "Therefore the BLEU score evaluates to 0, independently of\n",
            "how many N-gram overlaps of lower order it contains.\n",
            "Consider using lower n-gram order or use SmoothingFunction()\n",
            "  warnings.warn(_msg)\n",
            "/usr/local/lib/python3.10/dist-packages/nltk/translate/bleu_score.py:552: UserWarning: \n",
            "The hypothesis contains 0 counts of 4-gram overlaps.\n",
            "Therefore the BLEU score evaluates to 0, independently of\n",
            "how many N-gram overlaps of lower order it contains.\n",
            "Consider using lower n-gram order or use SmoothingFunction()\n",
            "  warnings.warn(_msg)\n"
          ]
        },
        {
          "output_type": "execute_result",
          "data": {
            "text/plain": [
              "1.0547686614863434e-154"
            ]
          },
          "metadata": {},
          "execution_count": 50
        }
      ]
    },
    {
      "cell_type": "markdown",
      "source": [
        "## Chen & Cherry Smoothing Evaluation"
      ],
      "metadata": {
        "id": "7Bz20MVjYhEP"
      }
    },
    {
      "cell_type": "code",
      "source": [
        "reference = [['je','vous','invite', 'de', 'lui', 'laisser','dans'\n",
        "'cette', 'minute', 'de', 'silence']]\n",
        "canidate = [['laissez','le','tranquille','dans','cette','minute','de','silence']]\n",
        "\n",
        "score = sentence_bleu(reference, candidate)\n",
        "print('intial score',score)"
      ],
      "metadata": {
        "colab": {
          "base_uri": "https://localhost:8080/"
        },
        "id": "iD55DWExYi-E",
        "outputId": "4f4d3c2b-2635-4f29-b016-88e95d9480f9"
      },
      "execution_count": 53,
      "outputs": [
        {
          "output_type": "stream",
          "name": "stdout",
          "text": [
            "intial score 3.7363724810750054e-78\n"
          ]
        },
        {
          "output_type": "stream",
          "name": "stderr",
          "text": [
            "/usr/local/lib/python3.10/dist-packages/nltk/translate/bleu_score.py:552: UserWarning: \n",
            "The hypothesis contains 0 counts of 4-gram overlaps.\n",
            "Therefore the BLEU score evaluates to 0, independently of\n",
            "how many N-gram overlaps of lower order it contains.\n",
            "Consider using lower n-gram order or use SmoothingFunction()\n",
            "  warnings.warn(_msg)\n"
          ]
        }
      ]
    },
    {
      "cell_type": "code",
      "source": [
        "chencherry = SmoothingFunction()\n",
        "\n",
        "r = list('je vous invite de lui laisser dans cette minute de silence')\n",
        "candidate = list('laissez le tranquille dans cette minute de silence')\n",
        "print(\"with smoothing score\",sentence_bleu([r], candidate,smoothing_function=chencherry.method1))\n",
        "# With the current Evaluation we can tell that this score does not reach human acceptance"
      ],
      "metadata": {
        "colab": {
          "base_uri": "https://localhost:8080/"
        },
        "id": "CB4aRbwQbxEr",
        "outputId": "52860838-9e4a-4621-e5a2-acf27457f11c"
      },
      "execution_count": 54,
      "outputs": [
        {
          "output_type": "stream",
          "name": "stdout",
          "text": [
            "with smoothing score 0.6196224455407305\n"
          ]
        }
      ]
    }
  ]
}