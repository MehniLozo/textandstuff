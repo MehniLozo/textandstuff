{
  "nbformat": 4,
  "nbformat_minor": 0,
  "metadata": {
    "colab": {
      "provenance": []
    },
    "kernelspec": {
      "name": "python3",
      "display_name": "Python 3"
    },
    "language_info": {
      "name": "python"
    }
  },
  "cells": [
    {
      "cell_type": "code",
      "execution_count": 1,
      "metadata": {
        "id": "EvW_B6zyhsxN"
      },
      "outputs": [],
      "source": [
        "import pickle\n",
        "from pickle import dump"
      ]
    },
    {
      "cell_type": "code",
      "source": [
        "def load(file_name):\n",
        "  file = open(file_name, mode='rt',encoding='utf-8')\n",
        "  t = file.read()\n",
        "  file.close()\n",
        "  return t"
      ],
      "metadata": {
        "id": "mSBlYy2ElwH0"
      },
      "execution_count": 2,
      "outputs": []
    },
    {
      "cell_type": "code",
      "source": [
        "def sentencize(doc):\n",
        "  return doc.strip().split('\\n')"
      ],
      "metadata": {
        "id": "wm8cecDgl_jR"
      },
      "execution_count": 3,
      "outputs": []
    },
    {
      "cell_type": "code",
      "source": [
        "def shortest_longest_length(sentences):\n",
        "  lengths = [len(s.split()) for s in sentences]\n",
        "  return min(lengths),max(lengths)"
      ],
      "metadata": {
        "id": "lDPKZ30MmH2w"
      },
      "execution_count": 4,
      "outputs": []
    },
    {
      "cell_type": "code",
      "source": [
        "import re\n",
        "import string\n",
        "import unicodedata\n",
        "\n",
        "def clean_lines(lines):\n",
        "  cleaned_list= list()\n",
        "  re_print = re.compile('[^%s]'% re.escape(string.printable))\n",
        "\n",
        "  table = str.maketrans('','',string.punctuation)\n",
        "\n",
        "  for line in lines:\n",
        "    line = unicodedata.normalize('NFD',line).encode('ascii','ignore')\n",
        "    line = line.decode('UTF-8').split()\n",
        "    line = [word.lower() for word in line]\n",
        "    line = [word.translate(table) for word in line]\n",
        "    line= [re_print.sub('',w) for w in line]\n",
        "\n",
        "    line = [word for word in line if word.isalpha()]\n",
        "    cleaned_list.append(' '.join(line))\n",
        "  return cleaned_list"
      ],
      "metadata": {
        "id": "y0m7hGYumaTV"
      },
      "execution_count": 5,
      "outputs": []
    }
  ]
}