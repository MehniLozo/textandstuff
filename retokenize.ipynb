{
  "nbformat": 4,
  "nbformat_minor": 0,
  "metadata": {
    "colab": {
      "provenance": []
    },
    "kernelspec": {
      "name": "python3",
      "display_name": "Python 3"
    },
    "language_info": {
      "name": "python"
    }
  },
  "cells": [
    {
      "cell_type": "code",
      "execution_count": 12,
      "metadata": {
        "colab": {
          "base_uri": "https://localhost:8080/"
        },
        "id": "7WH5TisWROr7",
        "outputId": "d2aa22cf-7bc2-4c54-b643-7d8fe1517e03"
      },
      "outputs": [
        {
          "output_type": "stream",
          "name": "stderr",
          "text": [
            "[nltk_data] Downloading package punkt to /root/nltk_data...\n",
            "[nltk_data]   Package punkt is already up-to-date!\n"
          ]
        }
      ],
      "source": [
        "# !pip install --upgrade gensim\n",
        "import nltk\n",
        "nltk.download('punkt')\n",
        "\n",
        "import math\n",
        "import numpy as np\n",
        "from nltk.tokenize import sent_tokenize,word_tokenize\n",
        "import gensim\n",
        "from gensim.models import Word2Vec\n",
        "import numpy as np\n",
        "from sklearn.metrics.pairwise import cosine_similarity\n",
        "import matplotlib.pyplot as plt\n",
        "import warnings\n",
        "warnings.filterwarnings(action= 'ignore')"
      ]
    },
    {
      "cell_type": "markdown",
      "source": [
        "# Text Pre-Processing"
      ],
      "metadata": {
        "id": "p43vVlbYTRmK"
      }
    },
    {
      "cell_type": "code",
      "source": [
        "inp = open(\"text.txt\",\"r\")\n",
        "r = inp.read()\n",
        "processed = r.replace(\"\\n\",\" \")\n",
        "\n",
        "data = []\n",
        "for i in sent_tokenize(r):\n",
        "  temp = []\n",
        "  for j in word_tokenize(i):\n",
        "    temp.append(j.lower())\n",
        "  data.append(temp)"
      ],
      "metadata": {
        "id": "_P0RdPrrR2t4"
      },
      "execution_count": 13,
      "outputs": []
    },
    {
      "cell_type": "markdown",
      "source": [
        "# Skip Gram Initialization"
      ],
      "metadata": {
        "id": "pxd8BzKzTOFP"
      }
    },
    {
      "cell_type": "code",
      "source": [
        "model = gensim.models.Word2Vec(data, min_count = 1, vector_size = 512,window= 5, sg = 1)\n",
        "print(model)"
      ],
      "metadata": {
        "colab": {
          "base_uri": "https://localhost:8080/"
        },
        "id": "3D4Wt9GHTQNt",
        "outputId": "a61d9ecf-7b77-44dd-b63e-900bfebde4a2"
      },
      "execution_count": 15,
      "outputs": [
        {
          "output_type": "stream",
          "name": "stdout",
          "text": [
            "Word2Vec<vocab=166, vector_size=512, alpha=0.025>\n"
          ]
        }
      ]
    }
  ]
}