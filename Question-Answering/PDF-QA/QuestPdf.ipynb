{
  "nbformat": 4,
  "nbformat_minor": 0,
  "metadata": {
    "colab": {
      "provenance": []
    },
    "kernelspec": {
      "name": "python3",
      "display_name": "Python 3"
    },
    "language_info": {
      "name": "python"
    }
  },
  "cells": [
    {
      "cell_type": "markdown",
      "source": [
        "# Question your Pdf file for a critical answer"
      ],
      "metadata": {
        "id": "Fff6eBSDIZnb"
      }
    },
    {
      "cell_type": "code",
      "source": [
        "!pip install pdfplumber"
      ],
      "metadata": {
        "colab": {
          "base_uri": "https://localhost:8080/"
        },
        "id": "sCO-pypeJPDm",
        "outputId": "ffe6bcf5-3824-42a0-bdc1-1b7c9674a637"
      },
      "execution_count": 1,
      "outputs": [
        {
          "output_type": "stream",
          "name": "stdout",
          "text": [
            "Collecting pdfplumber\n",
            "  Downloading pdfplumber-0.10.2-py3-none-any.whl (47 kB)\n",
            "\u001b[?25l     \u001b[90m━━━━━━━━━━━━━━━━━━━━━━━━━━━━━━━━━━━━━━━━\u001b[0m \u001b[32m0.0/47.5 kB\u001b[0m \u001b[31m?\u001b[0m eta \u001b[36m-:--:--\u001b[0m\r\u001b[2K     \u001b[90m━━━━━━━━━━━━━━━━━━━━━━━━━━━━━━━━━━━━━━━━\u001b[0m \u001b[32m47.5/47.5 kB\u001b[0m \u001b[31m2.1 MB/s\u001b[0m eta \u001b[36m0:00:00\u001b[0m\n",
            "\u001b[?25hCollecting pdfminer.six==20221105 (from pdfplumber)\n",
            "  Downloading pdfminer.six-20221105-py3-none-any.whl (5.6 MB)\n",
            "\u001b[2K     \u001b[90m━━━━━━━━━━━━━━━━━━━━━━━━━━━━━━━━━━━━━━━━\u001b[0m \u001b[32m5.6/5.6 MB\u001b[0m \u001b[31m59.1 MB/s\u001b[0m eta \u001b[36m0:00:00\u001b[0m\n",
            "\u001b[?25hRequirement already satisfied: Pillow>=9.1 in /usr/local/lib/python3.10/dist-packages (from pdfplumber) (9.4.0)\n",
            "Collecting pypdfium2>=4.18.0 (from pdfplumber)\n",
            "  Downloading pypdfium2-4.22.0-py3-none-manylinux_2_17_x86_64.whl (2.9 MB)\n",
            "\u001b[2K     \u001b[90m━━━━━━━━━━━━━━━━━━━━━━━━━━━━━━━━━━━━━━━━\u001b[0m \u001b[32m2.9/2.9 MB\u001b[0m \u001b[31m112.7 MB/s\u001b[0m eta \u001b[36m0:00:00\u001b[0m\n",
            "\u001b[?25hRequirement already satisfied: charset-normalizer>=2.0.0 in /usr/local/lib/python3.10/dist-packages (from pdfminer.six==20221105->pdfplumber) (3.3.0)\n",
            "Requirement already satisfied: cryptography>=36.0.0 in /usr/local/lib/python3.10/dist-packages (from pdfminer.six==20221105->pdfplumber) (41.0.4)\n",
            "Requirement already satisfied: cffi>=1.12 in /usr/local/lib/python3.10/dist-packages (from cryptography>=36.0.0->pdfminer.six==20221105->pdfplumber) (1.16.0)\n",
            "Requirement already satisfied: pycparser in /usr/local/lib/python3.10/dist-packages (from cffi>=1.12->cryptography>=36.0.0->pdfminer.six==20221105->pdfplumber) (2.21)\n",
            "Installing collected packages: pypdfium2, pdfminer.six, pdfplumber\n",
            "Successfully installed pdfminer.six-20221105 pdfplumber-0.10.2 pypdfium2-4.22.0\n"
          ]
        }
      ]
    },
    {
      "cell_type": "code",
      "source": [
        "import pdfplumber\n",
        "doc = pdfplumber.open(\"EU.pdf\")\n",
        "\n",
        "txt = doc.pages[0].extract_text()\n",
        "\n",
        "print(txt)"
      ],
      "metadata": {
        "colab": {
          "base_uri": "https://localhost:8080/"
        },
        "id": "7eWUe2cdJtG7",
        "outputId": "dd86324c-6fff-45ce-c437-af7112f31333"
      },
      "execution_count": 35,
      "outputs": [
        {
          "output_type": "stream",
          "name": "stdout",
          "text": [
            "Europe, often referred to as the cradle of Western civilization, boasts a rich and complex\n",
            "history that spans millennia. Ancient Greece and Rome laid the foundations for European\n",
            "culture, art, and governance, shaping its intellectual and political traditions. The medieval\n",
            "period saw the rise of powerful empires and kingdoms, such as the Byzantine Empire, the\n",
            "Holy Roman Empire, and Charlemagne's Carolingian Empire, each leaving an indelible mark\n",
            "on European history. The Renaissance, a cultural and intellectual revival in the 14th to 17th\n",
            "centuries, brought forth an explosion of artistic and scientific advancements, with luminaries\n",
            "like Leonardo da Vinci, Michelangelo, and Copernicus leading the way. The age of\n",
            "exploration marked a significant turning point as European powers embarked on voyages of\n",
            "discovery, leading to the colonization of distant lands and the spread of European influence\n",
            "around the globe.\n",
            "The Reformation in the 16th century, driven by religious and political upheavals, split the\n",
            "Christian Church into Protestant and Catholic branches, forever altering the religious\n",
            "landscape of Europe. The 18th and 19th centuries witnessed the Enlightenment, the\n",
            "Industrial Revolution, and the consolidation of European empires, with events like the French\n",
            "Revolution and the Napoleonic Wars reshaping the continent politically. The 20th century\n",
            "was marked by the devastating impact of two world wars, which led to the eventual formation\n",
            "of the European Union, a powerful political and economic bloc striving to promote peace and\n",
            "cooperation among European nations.\n",
            "Throughout its history, Europe has been a crucible of artistic achievement, scientific\n",
            "innovation, and philosophical thought, with its dynamic tapestry of cultures, languages, and\n",
            "traditions contributing to the world's heritage. Europe's history is a testament to its enduring\n",
            "influence and its role in shaping the modern world.\n",
            "France, as one of the founding members of the European Union (EU), has played a\n",
            "significant role in shaping the organization's policies and direction. Its relationship with the\n",
            "EU is characterized by a strong commitment to European integration and cooperation.\n",
            "France has been a driving force behind the EU's economic and political initiatives,\n",
            "contributing to the development of key policies, such as the Common Agricultural Policy and\n",
            "the Single Market. French leaders have also been instrumental in fostering closer defense\n",
            "and security cooperation within the EU.\n",
            "Moreover, France is a staunch advocate for the Eurozone, and the euro, the EU's common\n",
            "currency, plays a pivotal role in the French economy. The country's partnership with\n",
            "Germany in the Franco-German axis has been a cornerstone of EU decision-making,\n",
            "reflecting a commitment to the unity and stability of the European project. France's approach\n",
            "to the EU encompasses not only economic considerations but also cultural and social\n",
            "dimensions, emphasizing the importance of European values and solidarity.\n",
            "In recent years, France has continued to support initiatives aimed at enhancing the EU's\n",
            "capacity to address global challenges, including climate change, security, and migration. As\n",
            "a result, the relationship between France and the EU remains pivotal, and the country\n",
            "continues to be a major player in the ongoing development of the European Union.\n"
          ]
        }
      ]
    },
    {
      "cell_type": "code",
      "source": [
        "import nltk\n",
        "nltk.download('punkt')\n",
        "tokens = nltk.sent_tokenize(txt)\n",
        "for i in tokens:\n",
        "  print(i,\"\\n\")"
      ],
      "metadata": {
        "colab": {
          "base_uri": "https://localhost:8080/"
        },
        "id": "M7ROP8lNKMYs",
        "outputId": "cb397826-c823-4022-c4b6-7c5c8c7ce1e8"
      },
      "execution_count": 38,
      "outputs": [
        {
          "output_type": "stream",
          "name": "stdout",
          "text": [
            "Europe, often referred to as the cradle of Western civilization, boasts a rich and complex\n",
            "history that spans millennia. \n",
            "\n",
            "Ancient Greece and Rome laid the foundations for European\n",
            "culture, art, and governance, shaping its intellectual and political traditions. \n",
            "\n",
            "The medieval\n",
            "period saw the rise of powerful empires and kingdoms, such as the Byzantine Empire, the\n",
            "Holy Roman Empire, and Charlemagne's Carolingian Empire, each leaving an indelible mark\n",
            "on European history. \n",
            "\n",
            "The Renaissance, a cultural and intellectual revival in the 14th to 17th\n",
            "centuries, brought forth an explosion of artistic and scientific advancements, with luminaries\n",
            "like Leonardo da Vinci, Michelangelo, and Copernicus leading the way. \n",
            "\n",
            "The age of\n",
            "exploration marked a significant turning point as European powers embarked on voyages of\n",
            "discovery, leading to the colonization of distant lands and the spread of European influence\n",
            "around the globe. \n",
            "\n",
            "The Reformation in the 16th century, driven by religious and political upheavals, split the\n",
            "Christian Church into Protestant and Catholic branches, forever altering the religious\n",
            "landscape of Europe. \n",
            "\n",
            "The 18th and 19th centuries witnessed the Enlightenment, the\n",
            "Industrial Revolution, and the consolidation of European empires, with events like the French\n",
            "Revolution and the Napoleonic Wars reshaping the continent politically. \n",
            "\n",
            "The 20th century\n",
            "was marked by the devastating impact of two world wars, which led to the eventual formation\n",
            "of the European Union, a powerful political and economic bloc striving to promote peace and\n",
            "cooperation among European nations. \n",
            "\n",
            "Throughout its history, Europe has been a crucible of artistic achievement, scientific\n",
            "innovation, and philosophical thought, with its dynamic tapestry of cultures, languages, and\n",
            "traditions contributing to the world's heritage. \n",
            "\n",
            "Europe's history is a testament to its enduring\n",
            "influence and its role in shaping the modern world. \n",
            "\n",
            "France, as one of the founding members of the European Union (EU), has played a\n",
            "significant role in shaping the organization's policies and direction. \n",
            "\n",
            "Its relationship with the\n",
            "EU is characterized by a strong commitment to European integration and cooperation. \n",
            "\n",
            "France has been a driving force behind the EU's economic and political initiatives,\n",
            "contributing to the development of key policies, such as the Common Agricultural Policy and\n",
            "the Single Market. \n",
            "\n",
            "French leaders have also been instrumental in fostering closer defense\n",
            "and security cooperation within the EU. \n",
            "\n",
            "Moreover, France is a staunch advocate for the Eurozone, and the euro, the EU's common\n",
            "currency, plays a pivotal role in the French economy. \n",
            "\n",
            "The country's partnership with\n",
            "Germany in the Franco-German axis has been a cornerstone of EU decision-making,\n",
            "reflecting a commitment to the unity and stability of the European project. \n",
            "\n",
            "France's approach\n",
            "to the EU encompasses not only economic considerations but also cultural and social\n",
            "dimensions, emphasizing the importance of European values and solidarity. \n",
            "\n",
            "In recent years, France has continued to support initiatives aimed at enhancing the EU's\n",
            "capacity to address global challenges, including climate change, security, and migration. \n",
            "\n",
            "As\n",
            "a result, the relationship between France and the EU remains pivotal, and the country\n",
            "continues to be a major player in the ongoing development of the European Union. \n",
            "\n"
          ]
        },
        {
          "output_type": "stream",
          "name": "stderr",
          "text": [
            "[nltk_data] Downloading package punkt to /root/nltk_data...\n",
            "[nltk_data]   Package punkt is already up-to-date!\n"
          ]
        }
      ]
    },
    {
      "cell_type": "code",
      "source": [
        "import re\n",
        "import gensim\n",
        "from gensim.parsing.preprocessing import remove_stopwords\n",
        "\n",
        "def sentence_to_clean(sentence,stopwords=False):\n",
        "  sentence = sentence.lower().strip()\n",
        "  sentence = re.sub(r'[^a-z0-9\\s]','',sentence)\n",
        "  if stopwords:\n",
        "    sentence = remove_stopwords(sentence)\n",
        "  return sentence\n",
        "\n",
        "def sentences_to_clean(tokens, stopwords=False):\n",
        "  cleaned_sentences = []\n",
        "  for row in tokens:\n",
        "    cleaned_sentences.append(sentence_to_clean(row,stopwords))\n",
        "  return cleaned_sentences"
      ],
      "metadata": {
        "id": "dTEib-J7KgHo"
      },
      "execution_count": 39,
      "outputs": []
    },
    {
      "cell_type": "code",
      "source": [
        "cleaned_sentences = sentences_to_clean(tokens, stopwords=True)\n",
        "with_stopwords = sentences_to_clean(tokens,stopwords=False)\n",
        "print(cleaned_sentences)\n",
        "print(with_stopwords)"
      ],
      "metadata": {
        "colab": {
          "base_uri": "https://localhost:8080/"
        },
        "id": "_NlqfkObMQ2W",
        "outputId": "328b0aa7-e835-4034-d787-55b4394ddbff"
      },
      "execution_count": 40,
      "outputs": [
        {
          "output_type": "stream",
          "name": "stdout",
          "text": [
            "['europe referred cradle western civilization boasts rich complex history spans millennia', 'ancient greece rome laid foundations european culture art governance shaping intellectual political traditions', 'medieval period saw rise powerful empires kingdoms byzantine empire holy roman empire charlemagnes carolingian empire leaving indelible mark european history', 'renaissance cultural intellectual revival 14th 17th centuries brought forth explosion artistic scientific advancements luminaries like leonardo da vinci michelangelo copernicus leading way', 'age exploration marked significant turning point european powers embarked voyages discovery leading colonization distant lands spread european influence globe', 'reformation 16th century driven religious political upheavals split christian church protestant catholic branches forever altering religious landscape europe', '18th 19th centuries witnessed enlightenment industrial revolution consolidation european empires events like french revolution napoleonic wars reshaping continent politically', '20th century marked devastating impact world wars led eventual formation european union powerful political economic bloc striving promote peace cooperation european nations', 'history europe crucible artistic achievement scientific innovation philosophical thought dynamic tapestry cultures languages traditions contributing worlds heritage', 'europes history testament enduring influence role shaping modern world', 'france founding members european union eu played significant role shaping organizations policies direction', 'relationship eu characterized strong commitment european integration cooperation', 'france driving force eus economic political initiatives contributing development key policies common agricultural policy single market', 'french leaders instrumental fostering closer defense security cooperation eu', 'france staunch advocate eurozone euro eus common currency plays pivotal role french economy', 'countrys partnership germany francogerman axis cornerstone eu decisionmaking reflecting commitment unity stability european project', 'frances approach eu encompasses economic considerations cultural social dimensions emphasizing importance european values solidarity', 'recent years france continued support initiatives aimed enhancing eus capacity address global challenges including climate change security migration', 'result relationship france eu remains pivotal country continues major player ongoing development european union']\n",
            "['europe often referred to as the cradle of western civilization boasts a rich and complex\\nhistory that spans millennia', 'ancient greece and rome laid the foundations for european\\nculture art and governance shaping its intellectual and political traditions', 'the medieval\\nperiod saw the rise of powerful empires and kingdoms such as the byzantine empire the\\nholy roman empire and charlemagnes carolingian empire each leaving an indelible mark\\non european history', 'the renaissance a cultural and intellectual revival in the 14th to 17th\\ncenturies brought forth an explosion of artistic and scientific advancements with luminaries\\nlike leonardo da vinci michelangelo and copernicus leading the way', 'the age of\\nexploration marked a significant turning point as european powers embarked on voyages of\\ndiscovery leading to the colonization of distant lands and the spread of european influence\\naround the globe', 'the reformation in the 16th century driven by religious and political upheavals split the\\nchristian church into protestant and catholic branches forever altering the religious\\nlandscape of europe', 'the 18th and 19th centuries witnessed the enlightenment the\\nindustrial revolution and the consolidation of european empires with events like the french\\nrevolution and the napoleonic wars reshaping the continent politically', 'the 20th century\\nwas marked by the devastating impact of two world wars which led to the eventual formation\\nof the european union a powerful political and economic bloc striving to promote peace and\\ncooperation among european nations', 'throughout its history europe has been a crucible of artistic achievement scientific\\ninnovation and philosophical thought with its dynamic tapestry of cultures languages and\\ntraditions contributing to the worlds heritage', 'europes history is a testament to its enduring\\ninfluence and its role in shaping the modern world', 'france as one of the founding members of the european union eu has played a\\nsignificant role in shaping the organizations policies and direction', 'its relationship with the\\neu is characterized by a strong commitment to european integration and cooperation', 'france has been a driving force behind the eus economic and political initiatives\\ncontributing to the development of key policies such as the common agricultural policy and\\nthe single market', 'french leaders have also been instrumental in fostering closer defense\\nand security cooperation within the eu', 'moreover france is a staunch advocate for the eurozone and the euro the eus common\\ncurrency plays a pivotal role in the french economy', 'the countrys partnership with\\ngermany in the francogerman axis has been a cornerstone of eu decisionmaking\\nreflecting a commitment to the unity and stability of the european project', 'frances approach\\nto the eu encompasses not only economic considerations but also cultural and social\\ndimensions emphasizing the importance of european values and solidarity', 'in recent years france has continued to support initiatives aimed at enhancing the eus\\ncapacity to address global challenges including climate change security and migration', 'as\\na result the relationship between france and the eu remains pivotal and the country\\ncontinues to be a major player in the ongoing development of the european union']\n"
          ]
        }
      ]
    },
    {
      "cell_type": "code",
      "source": [
        "import numpy\n",
        "sent_words = [[word for word in document.split()]\n",
        "              for document in with_stopwords]\n",
        "from gensim import corpora\n",
        "dictio = corpora.Dictionary(sent_words)\n",
        "for k,v in dictio.items():\n",
        "  print(k, ':' , v)"
      ],
      "metadata": {
        "colab": {
          "base_uri": "https://localhost:8080/"
        },
        "id": "_V5RvQL4NKES",
        "outputId": "fb26fc7c-01ec-4e2e-96d2-cf4c8eac53ca"
      },
      "execution_count": 41,
      "outputs": [
        {
          "output_type": "stream",
          "name": "stdout",
          "text": [
            "0 : a\n",
            "1 : and\n",
            "2 : as\n",
            "3 : boasts\n",
            "4 : civilization\n",
            "5 : complex\n",
            "6 : cradle\n",
            "7 : europe\n",
            "8 : history\n",
            "9 : millennia\n",
            "10 : of\n",
            "11 : often\n",
            "12 : referred\n",
            "13 : rich\n",
            "14 : spans\n",
            "15 : that\n",
            "16 : the\n",
            "17 : to\n",
            "18 : western\n",
            "19 : ancient\n",
            "20 : art\n",
            "21 : culture\n",
            "22 : european\n",
            "23 : for\n",
            "24 : foundations\n",
            "25 : governance\n",
            "26 : greece\n",
            "27 : intellectual\n",
            "28 : its\n",
            "29 : laid\n",
            "30 : political\n",
            "31 : rome\n",
            "32 : shaping\n",
            "33 : traditions\n",
            "34 : an\n",
            "35 : byzantine\n",
            "36 : carolingian\n",
            "37 : charlemagnes\n",
            "38 : each\n",
            "39 : empire\n",
            "40 : empires\n",
            "41 : holy\n",
            "42 : indelible\n",
            "43 : kingdoms\n",
            "44 : leaving\n",
            "45 : mark\n",
            "46 : medieval\n",
            "47 : on\n",
            "48 : period\n",
            "49 : powerful\n",
            "50 : rise\n",
            "51 : roman\n",
            "52 : saw\n",
            "53 : such\n",
            "54 : 14th\n",
            "55 : 17th\n",
            "56 : advancements\n",
            "57 : artistic\n",
            "58 : brought\n",
            "59 : centuries\n",
            "60 : copernicus\n",
            "61 : cultural\n",
            "62 : da\n",
            "63 : explosion\n",
            "64 : forth\n",
            "65 : in\n",
            "66 : leading\n",
            "67 : leonardo\n",
            "68 : like\n",
            "69 : luminaries\n",
            "70 : michelangelo\n",
            "71 : renaissance\n",
            "72 : revival\n",
            "73 : scientific\n",
            "74 : vinci\n",
            "75 : way\n",
            "76 : with\n",
            "77 : age\n",
            "78 : around\n",
            "79 : colonization\n",
            "80 : discovery\n",
            "81 : distant\n",
            "82 : embarked\n",
            "83 : exploration\n",
            "84 : globe\n",
            "85 : influence\n",
            "86 : lands\n",
            "87 : marked\n",
            "88 : point\n",
            "89 : powers\n",
            "90 : significant\n",
            "91 : spread\n",
            "92 : turning\n",
            "93 : voyages\n",
            "94 : 16th\n",
            "95 : altering\n",
            "96 : branches\n",
            "97 : by\n",
            "98 : catholic\n",
            "99 : century\n",
            "100 : christian\n",
            "101 : church\n",
            "102 : driven\n",
            "103 : forever\n",
            "104 : into\n",
            "105 : landscape\n",
            "106 : protestant\n",
            "107 : reformation\n",
            "108 : religious\n",
            "109 : split\n",
            "110 : upheavals\n",
            "111 : 18th\n",
            "112 : 19th\n",
            "113 : consolidation\n",
            "114 : continent\n",
            "115 : enlightenment\n",
            "116 : events\n",
            "117 : french\n",
            "118 : industrial\n",
            "119 : napoleonic\n",
            "120 : politically\n",
            "121 : reshaping\n",
            "122 : revolution\n",
            "123 : wars\n",
            "124 : witnessed\n",
            "125 : 20th\n",
            "126 : among\n",
            "127 : bloc\n",
            "128 : cooperation\n",
            "129 : devastating\n",
            "130 : economic\n",
            "131 : eventual\n",
            "132 : formation\n",
            "133 : impact\n",
            "134 : led\n",
            "135 : nations\n",
            "136 : peace\n",
            "137 : promote\n",
            "138 : striving\n",
            "139 : two\n",
            "140 : union\n",
            "141 : was\n",
            "142 : which\n",
            "143 : world\n",
            "144 : achievement\n",
            "145 : been\n",
            "146 : contributing\n",
            "147 : crucible\n",
            "148 : cultures\n",
            "149 : dynamic\n",
            "150 : has\n",
            "151 : heritage\n",
            "152 : innovation\n",
            "153 : languages\n",
            "154 : philosophical\n",
            "155 : tapestry\n",
            "156 : thought\n",
            "157 : throughout\n",
            "158 : worlds\n",
            "159 : enduring\n",
            "160 : europes\n",
            "161 : is\n",
            "162 : modern\n",
            "163 : role\n",
            "164 : testament\n",
            "165 : direction\n",
            "166 : eu\n",
            "167 : founding\n",
            "168 : france\n",
            "169 : members\n",
            "170 : one\n",
            "171 : organizations\n",
            "172 : played\n",
            "173 : policies\n",
            "174 : characterized\n",
            "175 : commitment\n",
            "176 : integration\n",
            "177 : relationship\n",
            "178 : strong\n",
            "179 : agricultural\n",
            "180 : behind\n",
            "181 : common\n",
            "182 : development\n",
            "183 : driving\n",
            "184 : eus\n",
            "185 : force\n",
            "186 : initiatives\n",
            "187 : key\n",
            "188 : market\n",
            "189 : policy\n",
            "190 : single\n",
            "191 : also\n",
            "192 : closer\n",
            "193 : defense\n",
            "194 : fostering\n",
            "195 : have\n",
            "196 : instrumental\n",
            "197 : leaders\n",
            "198 : security\n",
            "199 : within\n",
            "200 : advocate\n",
            "201 : currency\n",
            "202 : economy\n",
            "203 : euro\n",
            "204 : eurozone\n",
            "205 : moreover\n",
            "206 : pivotal\n",
            "207 : plays\n",
            "208 : staunch\n",
            "209 : axis\n",
            "210 : cornerstone\n",
            "211 : countrys\n",
            "212 : decisionmaking\n",
            "213 : francogerman\n",
            "214 : germany\n",
            "215 : partnership\n",
            "216 : project\n",
            "217 : reflecting\n",
            "218 : stability\n",
            "219 : unity\n",
            "220 : approach\n",
            "221 : but\n",
            "222 : considerations\n",
            "223 : dimensions\n",
            "224 : emphasizing\n",
            "225 : encompasses\n",
            "226 : frances\n",
            "227 : importance\n",
            "228 : not\n",
            "229 : only\n",
            "230 : social\n",
            "231 : solidarity\n",
            "232 : values\n",
            "233 : address\n",
            "234 : aimed\n",
            "235 : at\n",
            "236 : capacity\n",
            "237 : challenges\n",
            "238 : change\n",
            "239 : climate\n",
            "240 : continued\n",
            "241 : enhancing\n",
            "242 : global\n",
            "243 : including\n",
            "244 : migration\n",
            "245 : recent\n",
            "246 : support\n",
            "247 : years\n",
            "248 : be\n",
            "249 : between\n",
            "250 : continues\n",
            "251 : country\n",
            "252 : major\n",
            "253 : ongoing\n",
            "254 : player\n",
            "255 : remains\n",
            "256 : result\n"
          ]
        }
      ]
    },
    {
      "cell_type": "code",
      "source": [
        "import pprint\n",
        "bow = [dictio.doc2bow(text) for text in sent_words]\n",
        "for s , e in zip(cleaned_sentences, bow):\n",
        "  print(s)\n",
        "  print(e)"
      ],
      "metadata": {
        "colab": {
          "base_uri": "https://localhost:8080/"
        },
        "id": "s6QjJUaKJMcq",
        "outputId": "7799d1f8-b3dd-42cf-efee-22d1d3028d05"
      },
      "execution_count": 42,
      "outputs": [
        {
          "output_type": "stream",
          "name": "stdout",
          "text": [
            "europe referred cradle western civilization boasts rich complex history spans millennia\n",
            "[(0, 1), (1, 1), (2, 1), (3, 1), (4, 1), (5, 1), (6, 1), (7, 1), (8, 1), (9, 1), (10, 1), (11, 1), (12, 1), (13, 1), (14, 1), (15, 1), (16, 1), (17, 1), (18, 1)]\n",
            "ancient greece rome laid foundations european culture art governance shaping intellectual political traditions\n",
            "[(1, 3), (16, 1), (19, 1), (20, 1), (21, 1), (22, 1), (23, 1), (24, 1), (25, 1), (26, 1), (27, 1), (28, 1), (29, 1), (30, 1), (31, 1), (32, 1), (33, 1)]\n",
            "medieval period saw rise powerful empires kingdoms byzantine empire holy roman empire charlemagnes carolingian empire leaving indelible mark european history\n",
            "[(1, 2), (2, 1), (8, 1), (10, 1), (16, 4), (22, 1), (34, 1), (35, 1), (36, 1), (37, 1), (38, 1), (39, 3), (40, 1), (41, 1), (42, 1), (43, 1), (44, 1), (45, 1), (46, 1), (47, 1), (48, 1), (49, 1), (50, 1), (51, 1), (52, 1), (53, 1)]\n",
            "renaissance cultural intellectual revival 14th 17th centuries brought forth explosion artistic scientific advancements luminaries like leonardo da vinci michelangelo copernicus leading way\n",
            "[(0, 1), (1, 3), (10, 1), (16, 3), (17, 1), (27, 1), (34, 1), (54, 1), (55, 1), (56, 1), (57, 1), (58, 1), (59, 1), (60, 1), (61, 1), (62, 1), (63, 1), (64, 1), (65, 1), (66, 1), (67, 1), (68, 1), (69, 1), (70, 1), (71, 1), (72, 1), (73, 1), (74, 1), (75, 1), (76, 1)]\n",
            "age exploration marked significant turning point european powers embarked voyages discovery leading colonization distant lands spread european influence globe\n",
            "[(0, 1), (1, 1), (2, 1), (10, 4), (16, 4), (17, 1), (22, 2), (47, 1), (66, 1), (77, 1), (78, 1), (79, 1), (80, 1), (81, 1), (82, 1), (83, 1), (84, 1), (85, 1), (86, 1), (87, 1), (88, 1), (89, 1), (90, 1), (91, 1), (92, 1), (93, 1)]\n",
            "reformation 16th century driven religious political upheavals split christian church protestant catholic branches forever altering religious landscape europe\n",
            "[(1, 2), (7, 1), (10, 1), (16, 4), (30, 1), (65, 1), (94, 1), (95, 1), (96, 1), (97, 1), (98, 1), (99, 1), (100, 1), (101, 1), (102, 1), (103, 1), (104, 1), (105, 1), (106, 1), (107, 1), (108, 2), (109, 1), (110, 1)]\n",
            "18th 19th centuries witnessed enlightenment industrial revolution consolidation european empires events like french revolution napoleonic wars reshaping continent politically\n",
            "[(1, 3), (10, 1), (16, 7), (22, 1), (40, 1), (59, 1), (68, 1), (76, 1), (111, 1), (112, 1), (113, 1), (114, 1), (115, 1), (116, 1), (117, 1), (118, 1), (119, 1), (120, 1), (121, 1), (122, 2), (123, 1), (124, 1)]\n",
            "20th century marked devastating impact world wars led eventual formation european union powerful political economic bloc striving promote peace cooperation european nations\n",
            "[(0, 1), (1, 2), (10, 2), (16, 4), (17, 2), (22, 2), (30, 1), (49, 1), (87, 1), (97, 1), (99, 1), (123, 1), (125, 1), (126, 1), (127, 1), (128, 1), (129, 1), (130, 1), (131, 1), (132, 1), (133, 1), (134, 1), (135, 1), (136, 1), (137, 1), (138, 1), (139, 1), (140, 1), (141, 1), (142, 1), (143, 1)]\n",
            "history europe crucible artistic achievement scientific innovation philosophical thought dynamic tapestry cultures languages traditions contributing worlds heritage\n",
            "[(0, 1), (1, 2), (7, 1), (8, 1), (10, 2), (16, 1), (17, 1), (28, 2), (33, 1), (57, 1), (73, 1), (76, 1), (144, 1), (145, 1), (146, 1), (147, 1), (148, 1), (149, 1), (150, 1), (151, 1), (152, 1), (153, 1), (154, 1), (155, 1), (156, 1), (157, 1), (158, 1)]\n",
            "europes history testament enduring influence role shaping modern world\n",
            "[(0, 1), (1, 1), (8, 1), (16, 1), (17, 1), (28, 2), (32, 1), (65, 1), (85, 1), (143, 1), (159, 1), (160, 1), (161, 1), (162, 1), (163, 1), (164, 1)]\n",
            "france founding members european union eu played significant role shaping organizations policies direction\n",
            "[(0, 1), (1, 1), (2, 1), (10, 2), (16, 3), (22, 1), (32, 1), (65, 1), (90, 1), (140, 1), (150, 1), (163, 1), (165, 1), (166, 1), (167, 1), (168, 1), (169, 1), (170, 1), (171, 1), (172, 1), (173, 1)]\n",
            "relationship eu characterized strong commitment european integration cooperation\n",
            "[(0, 1), (1, 1), (16, 1), (17, 1), (22, 1), (28, 1), (76, 1), (97, 1), (128, 1), (161, 1), (166, 1), (174, 1), (175, 1), (176, 1), (177, 1), (178, 1)]\n",
            "france driving force eus economic political initiatives contributing development key policies common agricultural policy single market\n",
            "[(0, 1), (1, 2), (2, 1), (10, 1), (16, 4), (17, 1), (30, 1), (53, 1), (130, 1), (145, 1), (146, 1), (150, 1), (168, 1), (173, 1), (179, 1), (180, 1), (181, 1), (182, 1), (183, 1), (184, 1), (185, 1), (186, 1), (187, 1), (188, 1), (189, 1), (190, 1)]\n",
            "french leaders instrumental fostering closer defense security cooperation eu\n",
            "[(1, 1), (16, 1), (65, 1), (117, 1), (128, 1), (145, 1), (166, 1), (191, 1), (192, 1), (193, 1), (194, 1), (195, 1), (196, 1), (197, 1), (198, 1), (199, 1)]\n",
            "france staunch advocate eurozone euro eus common currency plays pivotal role french economy\n",
            "[(0, 2), (1, 1), (16, 4), (23, 1), (65, 1), (117, 1), (161, 1), (163, 1), (168, 1), (181, 1), (184, 1), (200, 1), (201, 1), (202, 1), (203, 1), (204, 1), (205, 1), (206, 1), (207, 1), (208, 1)]\n",
            "countrys partnership germany francogerman axis cornerstone eu decisionmaking reflecting commitment unity stability european project\n",
            "[(0, 2), (1, 1), (10, 2), (16, 4), (17, 1), (22, 1), (65, 1), (76, 1), (145, 1), (150, 1), (166, 1), (175, 1), (209, 1), (210, 1), (211, 1), (212, 1), (213, 1), (214, 1), (215, 1), (216, 1), (217, 1), (218, 1), (219, 1)]\n",
            "frances approach eu encompasses economic considerations cultural social dimensions emphasizing importance european values solidarity\n",
            "[(1, 2), (10, 1), (16, 2), (17, 1), (22, 1), (61, 1), (130, 1), (166, 1), (191, 1), (220, 1), (221, 1), (222, 1), (223, 1), (224, 1), (225, 1), (226, 1), (227, 1), (228, 1), (229, 1), (230, 1), (231, 1), (232, 1)]\n",
            "recent years france continued support initiatives aimed enhancing eus capacity address global challenges including climate change security migration\n",
            "[(1, 1), (16, 1), (17, 2), (65, 1), (150, 1), (168, 1), (184, 1), (186, 1), (198, 1), (233, 1), (234, 1), (235, 1), (236, 1), (237, 1), (238, 1), (239, 1), (240, 1), (241, 1), (242, 1), (243, 1), (244, 1), (245, 1), (246, 1), (247, 1)]\n",
            "result relationship france eu remains pivotal country continues major player ongoing development european union\n",
            "[(0, 2), (1, 2), (2, 1), (10, 1), (16, 5), (17, 1), (22, 1), (65, 1), (140, 1), (166, 1), (168, 1), (177, 1), (182, 1), (206, 1), (248, 1), (249, 1), (250, 1), (251, 1), (252, 1), (253, 1), (254, 1), (255, 1), (256, 1)]\n"
          ]
        }
      ]
    },
    {
      "cell_type": "code",
      "source": [
        "query = \"Founding members of the EU\""
      ],
      "metadata": {
        "id": "xwyy0LrhMPnW"
      },
      "execution_count": 43,
      "outputs": []
    },
    {
      "cell_type": "code",
      "source": [
        "cleaned_query = sentence_to_clean(query,stopwords=False)\n",
        "query_embedding = dictio.doc2bow(cleaned_query.split())\n"
      ],
      "metadata": {
        "id": "gBmsZLnXMoKi"
      },
      "execution_count": 44,
      "outputs": []
    },
    {
      "cell_type": "code",
      "source": [
        "print(\"Query : \" , query)\n",
        "print(\"Embedding : \",query_embedding)"
      ],
      "metadata": {
        "colab": {
          "base_uri": "https://localhost:8080/"
        },
        "id": "OfytMqHdNBrl",
        "outputId": "c5ac772a-66c2-45a7-ec98-957bb9213160"
      },
      "execution_count": 45,
      "outputs": [
        {
          "output_type": "stream",
          "name": "stdout",
          "text": [
            "Query :  Founding members of the EU\n",
            "Embedding :  [(10, 1), (16, 1), (166, 1), (167, 1), (169, 1)]\n"
          ]
        }
      ]
    },
    {
      "cell_type": "code",
      "source": [
        "from sklearn.preprocessing import maxabs_scale\n",
        "import sklearn\n",
        "from sklearn.metrics.pairwise import cosine_similarity\n",
        "\n",
        "def retrieveAndPrint(query_embedding,sent_embedding,sents):\n",
        "  max_similarity = -1\n",
        "  index_sim = -1\n",
        "  for index, emb in enumerate(sent_embedding):\n",
        "    sim = cosine_similarity(emb,query_embedding)[0][0]\n",
        "    print(index, sim, sents[index])\n",
        "    if sim > max_similarity:\n",
        "      max_similarity = sim\n",
        "      index_sim = index\n",
        "  return index_sim\n",
        "\n",
        "index = retrieveAndPrint(query_embedding,bow,cleaned_sentences)"
      ],
      "metadata": {
        "colab": {
          "base_uri": "https://localhost:8080/"
        },
        "id": "oNuw8xR-NVPv",
        "outputId": "d2f9cc3c-c551-44b7-c31e-ae65704869ab"
      },
      "execution_count": 46,
      "outputs": [
        {
          "output_type": "stream",
          "name": "stdout",
          "text": [
            "0 0.09950371902099892 europe referred cradle western civilization boasts rich complex history spans millennia\n",
            "1 0.4090559040929092 ancient greece rome laid foundations european culture art governance shaping intellectual political traditions\n",
            "2 0.5339929913879817 medieval period saw rise powerful empires kingdoms byzantine empire holy roman empire charlemagnes carolingian empire leaving indelible mark european history\n",
            "3 0.09950371902099892 renaissance cultural intellectual revival 14th 17th centuries brought forth explosion artistic scientific advancements luminaries like leonardo da vinci michelangelo copernicus leading way\n",
            "4 0.09950371902099892 age exploration marked significant turning point european powers embarked voyages discovery leading colonization distant lands spread european influence globe\n",
            "5 0.5339929913879817 reformation 16th century driven religious political upheavals split christian church protestant catholic branches forever altering religious landscape europe\n",
            "6 0.4090559040929092 18th 19th centuries witnessed enlightenment industrial revolution consolidation european empires events like french revolution napoleonic wars reshaping continent politically\n",
            "7 0.09950371902099892 20th century marked devastating impact world wars led eventual formation european union powerful political economic bloc striving promote peace cooperation european nations\n",
            "8 0.09950371902099892 history europe crucible artistic achievement scientific innovation philosophical thought dynamic tapestry cultures languages traditions contributing worlds heritage\n",
            "9 0.09950371902099892 europes history testament enduring influence role shaping modern world\n",
            "10 0.09950371902099892 france founding members european union eu played significant role shaping organizations policies direction\n",
            "11 0.09950371902099892 relationship eu characterized strong commitment european integration cooperation\n",
            "12 0.09950371902099892 france driving force eus economic political initiatives contributing development key policies common agricultural policy single market\n",
            "13 0.773957299203321 french leaders instrumental fostering closer defense security cooperation eu\n",
            "14 0.09950371902099892 france staunch advocate eurozone euro eus common currency plays pivotal role french economy\n",
            "15 0.09950371902099892 countrys partnership germany francogerman axis cornerstone eu decisionmaking reflecting commitment unity stability european project\n",
            "16 0.5339929913879817 frances approach eu encompasses economic considerations cultural social dimensions emphasizing importance european values solidarity\n",
            "17 0.773957299203321 recent years france continued support initiatives aimed enhancing eus capacity address global challenges including climate change security migration\n",
            "18 0.09950371902099892 result relationship france eu remains pivotal country continues major player ongoing development european union\n"
          ]
        }
      ]
    },
    {
      "cell_type": "code",
      "source": [
        "print(\"Chosen index = \", index)\n",
        "print(cleaned_sentences[index])"
      ],
      "metadata": {
        "colab": {
          "base_uri": "https://localhost:8080/"
        },
        "id": "M4SYC03vRIGB",
        "outputId": "c458354f-2511-4f15-f090-3e7e2c5842f9"
      },
      "execution_count": 47,
      "outputs": [
        {
          "output_type": "stream",
          "name": "stdout",
          "text": [
            "Chosen index =  13\n",
            "french leaders instrumental fostering closer defense security cooperation eu\n"
          ]
        }
      ]
    }
  ]
}