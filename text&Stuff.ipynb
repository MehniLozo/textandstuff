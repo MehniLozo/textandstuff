{
  "nbformat": 4,
  "nbformat_minor": 0,
  "metadata": {
    "colab": {
      "provenance": []
    },
    "kernelspec": {
      "name": "python3",
      "display_name": "Python 3"
    },
    "language_info": {
      "name": "python"
    }
  },
  "cells": [
    {
      "cell_type": "code",
      "execution_count": null,
      "metadata": {
        "id": "bFBx32VmkUel"
      },
      "outputs": [],
      "source": []
    },
    {
      "cell_type": "markdown",
      "source": [],
      "metadata": {
        "id": "8szQ6W61vytx"
      }
    },
    {
      "cell_type": "code",
      "source": [
        "# Encoding stuff\n",
        "docs = [\"Alex is a CEO\",\"our CEO is here\",\"Best is best\",\"CEO is a best\"]\n",
        "v = {} #vocabulary\n",
        "cp = 0 # counting variable\n",
        "for d in docs:\n",
        "  for w in d.split():\n",
        "    if w not in v:\n",
        "      cp = cp+1\n",
        "      v[w] = cp\n",
        "print(v)"
      ],
      "metadata": {
        "colab": {
          "base_uri": "https://localhost:8080/"
        },
        "id": "bCnnSa5QolEm",
        "outputId": "176d12f1-6ffe-4ca2-9698-0cac0ce78bc8"
      },
      "execution_count": 36,
      "outputs": [
        {
          "output_type": "stream",
          "name": "stdout",
          "text": [
            "{'Alex': 1, 'is': 2, 'a': 3, 'CEO': 4, 'our': 5, 'here': 6, 'Best': 7, 'best': 8}\n"
          ]
        }
      ]
    },
    {
      "cell_type": "code",
      "source": [
        "def one_hot_vect_technique(input):\n",
        "  encoding = []\n",
        "  for w in input.split():\n",
        "    x = [0]*len(v)\n",
        "    if w in v:\n",
        "      x[v[w]-1] = 1\n",
        "    encoding.append(x)\n",
        "  return encoding"
      ],
      "metadata": {
        "id": "BEqPIIPtpl8l"
      },
      "execution_count": 38,
      "outputs": []
    },
    {
      "cell_type": "code",
      "source": [
        "print(docs[1])\n",
        "one_hot_vect_technique(docs[1])"
      ],
      "metadata": {
        "colab": {
          "base_uri": "https://localhost:8080/"
        },
        "id": "u1f8muE0p8Qb",
        "outputId": "8fde6f80-cd7c-4d08-f342-a55c5da75953"
      },
      "execution_count": 39,
      "outputs": [
        {
          "output_type": "stream",
          "name": "stdout",
          "text": [
            "our CEO is here\n"
          ]
        },
        {
          "output_type": "execute_result",
          "data": {
            "text/plain": [
              "[[0, 0, 0, 0, 1, 0, 0, 0],\n",
              " [0, 0, 0, 1, 0, 0, 0, 0],\n",
              " [0, 1, 0, 0, 0, 0, 0, 0],\n",
              " [0, 0, 0, 0, 0, 1, 0, 0]]"
            ]
          },
          "metadata": {},
          "execution_count": 39
        }
      ]
    },
    {
      "cell_type": "code",
      "source": [
        "one_hot_vect_technique(\"CEO here\")"
      ],
      "metadata": {
        "colab": {
          "base_uri": "https://localhost:8080/"
        },
        "id": "qywLUma7r3HI",
        "outputId": "8eaabd23-dd16-4787-fb6d-6bf5a36edf01"
      },
      "execution_count": 40,
      "outputs": [
        {
          "output_type": "execute_result",
          "data": {
            "text/plain": [
              "[[0, 0, 0, 1, 0, 0, 0, 0], [0, 0, 0, 0, 0, 1, 0, 0]]"
            ]
          },
          "metadata": {},
          "execution_count": 40
        }
      ]
    },
    {
      "cell_type": "code",
      "source": [
        "\n",
        "\n",
        "S1 = 'dog bites man'\n",
        "S2 ='man bites dog'\n",
        "S3 = 'dog eats meat'\n",
        "S4 = 'man eats food'\n",
        "\"\"\"\n",
        "S1 = 'dog bites man'\n",
        "S2 = 'man bites dog'\n",
        "S3 = 'dog eats meat'\n",
        "S4 = 'man eats food'\n",
        "\"\"\""
      ],
      "metadata": {
        "colab": {
          "base_uri": "https://localhost:8080/",
          "height": 35
        },
        "id": "eCDAbLYdu8r5",
        "outputId": "441ec84f-1de8-4f27-de30-7b3566ecbbb0"
      },
      "execution_count": 49,
      "outputs": [
        {
          "output_type": "execute_result",
          "data": {
            "text/plain": [
              "\"\\nS1 = 'dog bites man'\\nS2 = 'man bites dog'\\nS3 = 'dog eats meat'\\nS4 = 'man eats food'\\n\""
            ],
            "application/vnd.google.colaboratory.intrinsic+json": {
              "type": "string"
            }
          },
          "metadata": {},
          "execution_count": 49
        }
      ]
    },
    {
      "cell_type": "code",
      "source": [
        "from sklearn.preprocessing import LabelEncoder, OneHotEncoder\n",
        "\n",
        "#data = [docs[0].split(),docs[1].split(),docs[2].split(),docs[3].split()]\n",
        "data = [S1.split(), S2.split(), S3.split(), S4.split()]\n",
        "v = data[0] + data[1] + data[2] + data[3]\n",
        "print(\"data\", data)\n",
        "le = LabelEncoder()\n",
        "iencoded = le.fit_transform(v) # integer encoder\n",
        "print(\"Label Encoding\",iencoded)\n",
        "\n",
        "print(\"---Trying with one hot encoder comparison stuff ----\")\n",
        "ohencoder = OneHotEncoder()\n",
        "ohencoded = ohencoder.fit_transform(data).toarray()\n",
        "print(\"----ne hot encoded Matrix display result----\\n\",ohencoded)"
      ],
      "metadata": {
        "colab": {
          "base_uri": "https://localhost:8080/"
        },
        "id": "lOZ_A7EEsfol",
        "outputId": "ebf13648-9f2b-4df2-e1e9-7c43d44c6f96"
      },
      "execution_count": 51,
      "outputs": [
        {
          "output_type": "stream",
          "name": "stdout",
          "text": [
            "data [['dog', 'bites', 'man'], ['man', 'bites', 'dog'], ['dog', 'eats', 'meat'], ['man', 'eats', 'food']]\n",
            "Label Encoding [1 0 4 4 0 1 1 2 5 4 2 3]\n",
            "---Trying with one hot encoder comparison stuff ----\n",
            "----ne hot encoded Matrix display result----\n",
            " [[1. 0. 1. 0. 0. 0. 1. 0.]\n",
            " [0. 1. 1. 0. 1. 0. 0. 0.]\n",
            " [1. 0. 0. 1. 0. 0. 0. 1.]\n",
            " [0. 1. 0. 1. 0. 1. 0. 0.]]\n"
          ]
        }
      ]
    },
    {
      "cell_type": "code",
      "source": [
        "print(type(docs[0]))"
      ],
      "metadata": {
        "colab": {
          "base_uri": "https://localhost:8080/"
        },
        "id": "JEC10IEIvLkA",
        "outputId": "643658c4-048a-421e-9bad-cd86a2d0144f"
      },
      "execution_count": 31,
      "outputs": [
        {
          "output_type": "stream",
          "name": "stdout",
          "text": [
            "<class 'str'>\n"
          ]
        }
      ]
    },
    {
      "cell_type": "code",
      "source": [
        "# Little bit of BoW\n",
        "from sklearn.feature_extraction.text import CountVectorizer\n",
        "count_vect = CountVectorizer(binary=True)\n",
        "\n",
        "bow_rep = count_vect.fit_transform(docs)\n",
        "\n",
        "print(\"Our vocabulary: \", count_vect.vocabulary_)\n",
        "\n",
        "print(\"BoW representation for '\",docs[0],\"': \", bow_rep[0].toarray())\n",
        "print(\"BoW representation for \",docs[1],\"': \",bow_rep[1].toarray())\n",
        "\n",
        "temp = count_vect.transform([\"CEO is manager\"])\n",
        "print(\"Bow representation for 'CEO is manager':\",\n",
        "temp.toarray())"
      ],
      "metadata": {
        "colab": {
          "base_uri": "https://localhost:8080/"
        },
        "id": "exV1UhvIvmW9",
        "outputId": "8b1e6186-0e3a-45f1-d0e4-816382f9077f"
      },
      "execution_count": 58,
      "outputs": [
        {
          "output_type": "stream",
          "name": "stdout",
          "text": [
            "Our vocabulary:  {'alex': 0, 'is': 4, 'ceo': 2, 'our': 5, 'here': 3, 'best': 1}\n",
            "BoW representation for ' Alex is a CEO ':  [[1 0 1 0 1 0]]\n",
            "BoW representation for  our CEO is here ':  [[0 0 1 1 1 1]]\n",
            "Bow representation for 'CEO is manager': [[0 0 1 0 1 0]]\n"
          ]
        }
      ]
    }
  ]
}