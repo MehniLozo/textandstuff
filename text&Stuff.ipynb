{
  "cells": [
    {
      "cell_type": "code",
      "execution_count": null,
      "metadata": {
        "id": "bFBx32VmkUel"
      },
      "outputs": [],
      "source": []
    },
    {
      "cell_type": "markdown",
      "metadata": {
        "id": "8szQ6W61vytx"
      },
      "source": []
    },
    {
      "cell_type": "code",
      "execution_count": null,
      "metadata": {
        "colab": {
          "base_uri": "https://localhost:8080/"
        },
        "id": "bCnnSa5QolEm",
        "outputId": "176d12f1-6ffe-4ca2-9698-0cac0ce78bc8"
      },
      "outputs": [
        {
          "name": "stdout",
          "output_type": "stream",
          "text": [
            "{'Alex': 1, 'is': 2, 'a': 3, 'CEO': 4, 'our': 5, 'here': 6, 'Best': 7, 'best': 8}\n"
          ]
        }
      ],
      "source": [
        "# Encoding stuff\n",
        "docs = [\"Alex is a CEO\",\"our CEO is here\",\"Best is best\",\"CEO is a best\"]\n",
        "v = {} #vocabulary\n",
        "cp = 0 # counting variable\n",
        "for d in docs:\n",
        "  for w in d.split():\n",
        "    if w not in v:\n",
        "      cp = cp+1\n",
        "      v[w] = cp\n",
        "print(v)"
      ]
    },
    {
      "cell_type": "code",
      "execution_count": null,
      "metadata": {
        "id": "BEqPIIPtpl8l"
      },
      "outputs": [],
      "source": [
        "def one_hot_vect_technique(input):\n",
        "  encoding = []\n",
        "  for w in input.split():\n",
        "    x = [0]*len(v)\n",
        "    if w in v:\n",
        "      x[v[w]-1] = 1\n",
        "    encoding.append(x)\n",
        "  return encoding"
      ]
    },
    {
      "cell_type": "code",
      "execution_count": null,
      "metadata": {
        "colab": {
          "base_uri": "https://localhost:8080/"
        },
        "id": "u1f8muE0p8Qb",
        "outputId": "8fde6f80-cd7c-4d08-f342-a55c5da75953"
      },
      "outputs": [
        {
          "name": "stdout",
          "output_type": "stream",
          "text": [
            "our CEO is here\n"
          ]
        },
        {
          "data": {
            "text/plain": [
              "[[0, 0, 0, 0, 1, 0, 0, 0],\n",
              " [0, 0, 0, 1, 0, 0, 0, 0],\n",
              " [0, 1, 0, 0, 0, 0, 0, 0],\n",
              " [0, 0, 0, 0, 0, 1, 0, 0]]"
            ]
          },
          "execution_count": 39,
          "metadata": {},
          "output_type": "execute_result"
        }
      ],
      "source": [
        "print(docs[1])\n",
        "one_hot_vect_technique(docs[1])"
      ]
    },
    {
      "cell_type": "code",
      "execution_count": null,
      "metadata": {
        "colab": {
          "base_uri": "https://localhost:8080/"
        },
        "id": "qywLUma7r3HI",
        "outputId": "8eaabd23-dd16-4787-fb6d-6bf5a36edf01"
      },
      "outputs": [
        {
          "data": {
            "text/plain": [
              "[[0, 0, 0, 1, 0, 0, 0, 0], [0, 0, 0, 0, 0, 1, 0, 0]]"
            ]
          },
          "execution_count": 40,
          "metadata": {},
          "output_type": "execute_result"
        }
      ],
      "source": [
        "one_hot_vect_technique(\"CEO here\")"
      ]
    },
    {
      "cell_type": "code",
      "execution_count": null,
      "metadata": {
        "colab": {
          "base_uri": "https://localhost:8080/",
          "height": 35
        },
        "id": "eCDAbLYdu8r5",
        "outputId": "441ec84f-1de8-4f27-de30-7b3566ecbbb0"
      },
      "outputs": [
        {
          "data": {
            "application/vnd.google.colaboratory.intrinsic+json": {
              "type": "string"
            },
            "text/plain": [
              "\"\\nS1 = 'dog bites man'\\nS2 = 'man bites dog'\\nS3 = 'dog eats meat'\\nS4 = 'man eats food'\\n\""
            ]
          },
          "execution_count": 49,
          "metadata": {},
          "output_type": "execute_result"
        }
      ],
      "source": [
        "\n",
        "\n",
        "S1 = 'dog bites man'\n",
        "S2 ='man bites dog'\n",
        "S3 = 'dog eats meat'\n",
        "S4 = 'man eats food'\n",
        "\"\"\"\n",
        "S1 = 'dog bites man'\n",
        "S2 = 'man bites dog'\n",
        "S3 = 'dog eats meat'\n",
        "S4 = 'man eats food'\n",
        "\"\"\""
      ]
    },
    {
      "cell_type": "code",
      "execution_count": null,
      "metadata": {
        "colab": {
          "base_uri": "https://localhost:8080/"
        },
        "id": "lOZ_A7EEsfol",
        "outputId": "ebf13648-9f2b-4df2-e1e9-7c43d44c6f96"
      },
      "outputs": [
        {
          "name": "stdout",
          "output_type": "stream",
          "text": [
            "data [['dog', 'bites', 'man'], ['man', 'bites', 'dog'], ['dog', 'eats', 'meat'], ['man', 'eats', 'food']]\n",
            "Label Encoding [1 0 4 4 0 1 1 2 5 4 2 3]\n",
            "---Trying with one hot encoder comparison stuff ----\n",
            "----ne hot encoded Matrix display result----\n",
            " [[1. 0. 1. 0. 0. 0. 1. 0.]\n",
            " [0. 1. 1. 0. 1. 0. 0. 0.]\n",
            " [1. 0. 0. 1. 0. 0. 0. 1.]\n",
            " [0. 1. 0. 1. 0. 1. 0. 0.]]\n"
          ]
        }
      ],
      "source": [
        "from sklearn.preprocessing import LabelEncoder, OneHotEncoder\n",
        "\n",
        "#data = [docs[0].split(),docs[1].split(),docs[2].split(),docs[3].split()]\n",
        "data = [S1.split(), S2.split(), S3.split(), S4.split()]\n",
        "v = data[0] + data[1] + data[2] + data[3]\n",
        "print(\"data\", data)\n",
        "le = LabelEncoder()\n",
        "iencoded = le.fit_transform(v) # integer encoder\n",
        "print(\"Label Encoding\",iencoded)\n",
        "\n",
        "print(\"---Trying with one hot encoder comparison stuff ----\")\n",
        "ohencoder = OneHotEncoder()\n",
        "ohencoded = ohencoder.fit_transform(data).toarray()\n",
        "print(\"----ne hot encoded Matrix display result----\\n\",ohencoded)"
      ]
    },
    {
      "cell_type": "code",
      "execution_count": null,
      "metadata": {
        "colab": {
          "base_uri": "https://localhost:8080/"
        },
        "id": "JEC10IEIvLkA",
        "outputId": "643658c4-048a-421e-9bad-cd86a2d0144f"
      },
      "outputs": [
        {
          "name": "stdout",
          "output_type": "stream",
          "text": [
            "<class 'str'>\n"
          ]
        }
      ],
      "source": [
        "print(type(docs[0]))"
      ]
    },
    {
      "cell_type": "code",
      "execution_count": null,
      "metadata": {
        "colab": {
          "base_uri": "https://localhost:8080/"
        },
        "id": "exV1UhvIvmW9",
        "outputId": "8b1e6186-0e3a-45f1-d0e4-816382f9077f"
      },
      "outputs": [
        {
          "name": "stdout",
          "output_type": "stream",
          "text": [
            "Our vocabulary:  {'alex': 0, 'is': 4, 'ceo': 2, 'our': 5, 'here': 3, 'best': 1}\n",
            "BoW representation for ' Alex is a CEO ':  [[1 0 1 0 1 0]]\n",
            "BoW representation for  our CEO is here ':  [[0 0 1 1 1 1]]\n",
            "Bow representation for 'CEO is manager': [[0 0 1 0 1 0]]\n"
          ]
        }
      ],
      "source": [
        "# Little bit of BoW\n",
        "from sklearn.feature_extraction.text import CountVectorizer\n",
        "count_vect = CountVectorizer(binary=True)\n",
        "\n",
        "bow_rep = count_vect.fit_transform(docs)\n",
        "\n",
        "print(\"Our vocabulary: \", count_vect.vocabulary_)\n",
        "\n",
        "print(\"BoW representation for '\",docs[0],\"': \", bow_rep[0].toarray())\n",
        "print(\"BoW representation for \",docs[1],\"': \",bow_rep[1].toarray())\n",
        "\n",
        "temp = count_vect.transform([\"CEO is manager\"])\n",
        "print(\"Bow representation for 'CEO is manager':\",\n",
        "temp.toarray())"
      ]
    },
    {
      "cell_type": "code",
      "execution_count": 7,
      "metadata": {
        "colab": {
          "base_uri": "https://localhost:8080/"
        },
        "id": "7_fXIJoti-4D",
        "outputId": "aeaf182b-decb-4a10-9bc3-b9d9824b984d"
      },
      "outputs": [
        {
          "name": "stdout",
          "output_type": "stream",
          "text": [
            "[('system', 0.21617139875888824), ('survey', 0.04468922317028046), ('interface', 0.015203381888568401), ('time', 0.0019510635174810886), ('trees', -0.03284316882491112)]\n"
          ]
        }
      ],
      "source": [
        "# Word embedding\n",
        "from gensim.models import Word2Vec, KeyedVectors\n",
        "from gensim.test.utils import common_texts\n",
        "\n",
        "\n",
        "our_model = Word2Vec(common_texts, window=5, min_count=1, workers=4)\n",
        "#Save the model\n",
        "our_model.save(\"tempmodel.w2v\")\n",
        "#Inspect the model by looking for the most similar words for a test word.\n",
        "print(our_model.wv.most_similar('computer', topn=5))\n",
        "#Let us see what the 10-dimensional vector for 'computer' looks like.\n",
        "#print(our_model['computer']) # error Word2Vec Object is not subscriptable"
      ]
    },
    {
      "cell_type": "code",
      "execution_count": 16,
      "metadata": {
        "colab": {
          "base_uri": "https://localhost:8080/"
        },
        "id": "PqdxaQ3dlUPE",
        "outputId": "b50dbcc1-062c-4997-9568-d17441f04a28"
      },
      "outputs": [
        {
          "name": "stdout",
          "output_type": "stream",
          "text": [
            "2023-08-25 15:48:24.718873: W tensorflow/compiler/tf2tensorrt/utils/py_utils.cc:38] TF-TRT Warning: Could not find TensorRT\n",
            "Collecting en-core-web-sm==3.6.0\n",
            "  Downloading https://github.com/explosion/spacy-models/releases/download/en_core_web_sm-3.6.0/en_core_web_sm-3.6.0-py3-none-any.whl (12.8 MB)\n",
            "\u001b[2K     \u001b[90m━━━━━━━━━━━━━━━━━━━━━━━━━━━━━━━━━━━━━━━━\u001b[0m \u001b[32m12.8/12.8 MB\u001b[0m \u001b[31m25.1 MB/s\u001b[0m eta \u001b[36m0:00:00\u001b[0m\n",
            "\u001b[?25hRequirement already satisfied: spacy<3.7.0,>=3.6.0 in /usr/local/lib/python3.10/dist-packages (from en-core-web-sm==3.6.0) (3.6.1)\n",
            "Requirement already satisfied: spacy-legacy<3.1.0,>=3.0.11 in /usr/local/lib/python3.10/dist-packages (from spacy<3.7.0,>=3.6.0->en-core-web-sm==3.6.0) (3.0.12)\n",
            "Requirement already satisfied: spacy-loggers<2.0.0,>=1.0.0 in /usr/local/lib/python3.10/dist-packages (from spacy<3.7.0,>=3.6.0->en-core-web-sm==3.6.0) (1.0.4)\n",
            "Requirement already satisfied: murmurhash<1.1.0,>=0.28.0 in /usr/local/lib/python3.10/dist-packages (from spacy<3.7.0,>=3.6.0->en-core-web-sm==3.6.0) (1.0.9)\n",
            "Requirement already satisfied: cymem<2.1.0,>=2.0.2 in /usr/local/lib/python3.10/dist-packages (from spacy<3.7.0,>=3.6.0->en-core-web-sm==3.6.0) (2.0.7)\n",
            "Requirement already satisfied: preshed<3.1.0,>=3.0.2 in /usr/local/lib/python3.10/dist-packages (from spacy<3.7.0,>=3.6.0->en-core-web-sm==3.6.0) (3.0.8)\n",
            "Requirement already satisfied: thinc<8.2.0,>=8.1.8 in /usr/local/lib/python3.10/dist-packages (from spacy<3.7.0,>=3.6.0->en-core-web-sm==3.6.0) (8.1.12)\n",
            "Requirement already satisfied: wasabi<1.2.0,>=0.9.1 in /usr/local/lib/python3.10/dist-packages (from spacy<3.7.0,>=3.6.0->en-core-web-sm==3.6.0) (1.1.2)\n",
            "Requirement already satisfied: srsly<3.0.0,>=2.4.3 in /usr/local/lib/python3.10/dist-packages (from spacy<3.7.0,>=3.6.0->en-core-web-sm==3.6.0) (2.4.7)\n",
            "Requirement already satisfied: catalogue<2.1.0,>=2.0.6 in /usr/local/lib/python3.10/dist-packages (from spacy<3.7.0,>=3.6.0->en-core-web-sm==3.6.0) (2.0.9)\n",
            "Requirement already satisfied: typer<0.10.0,>=0.3.0 in /usr/local/lib/python3.10/dist-packages (from spacy<3.7.0,>=3.6.0->en-core-web-sm==3.6.0) (0.9.0)\n",
            "Requirement already satisfied: pathy>=0.10.0 in /usr/local/lib/python3.10/dist-packages (from spacy<3.7.0,>=3.6.0->en-core-web-sm==3.6.0) (0.10.2)\n",
            "Requirement already satisfied: smart-open<7.0.0,>=5.2.1 in /usr/local/lib/python3.10/dist-packages (from spacy<3.7.0,>=3.6.0->en-core-web-sm==3.6.0) (6.3.0)\n",
            "Requirement already satisfied: tqdm<5.0.0,>=4.38.0 in /usr/local/lib/python3.10/dist-packages (from spacy<3.7.0,>=3.6.0->en-core-web-sm==3.6.0) (4.66.1)\n",
            "Requirement already satisfied: numpy>=1.15.0 in /usr/local/lib/python3.10/dist-packages (from spacy<3.7.0,>=3.6.0->en-core-web-sm==3.6.0) (1.23.5)\n",
            "Requirement already satisfied: requests<3.0.0,>=2.13.0 in /usr/local/lib/python3.10/dist-packages (from spacy<3.7.0,>=3.6.0->en-core-web-sm==3.6.0) (2.31.0)\n",
            "Requirement already satisfied: pydantic!=1.8,!=1.8.1,<3.0.0,>=1.7.4 in /usr/local/lib/python3.10/dist-packages (from spacy<3.7.0,>=3.6.0->en-core-web-sm==3.6.0) (2.2.0)\n",
            "Requirement already satisfied: jinja2 in /usr/local/lib/python3.10/dist-packages (from spacy<3.7.0,>=3.6.0->en-core-web-sm==3.6.0) (3.1.2)\n",
            "Requirement already satisfied: setuptools in /usr/local/lib/python3.10/dist-packages (from spacy<3.7.0,>=3.6.0->en-core-web-sm==3.6.0) (67.7.2)\n",
            "Requirement already satisfied: packaging>=20.0 in /usr/local/lib/python3.10/dist-packages (from spacy<3.7.0,>=3.6.0->en-core-web-sm==3.6.0) (23.1)\n",
            "Requirement already satisfied: langcodes<4.0.0,>=3.2.0 in /usr/local/lib/python3.10/dist-packages (from spacy<3.7.0,>=3.6.0->en-core-web-sm==3.6.0) (3.3.0)\n",
            "Requirement already satisfied: annotated-types>=0.4.0 in /usr/local/lib/python3.10/dist-packages (from pydantic!=1.8,!=1.8.1,<3.0.0,>=1.7.4->spacy<3.7.0,>=3.6.0->en-core-web-sm==3.6.0) (0.5.0)\n",
            "Requirement already satisfied: pydantic-core==2.6.0 in /usr/local/lib/python3.10/dist-packages (from pydantic!=1.8,!=1.8.1,<3.0.0,>=1.7.4->spacy<3.7.0,>=3.6.0->en-core-web-sm==3.6.0) (2.6.0)\n",
            "Requirement already satisfied: typing-extensions>=4.6.1 in /usr/local/lib/python3.10/dist-packages (from pydantic!=1.8,!=1.8.1,<3.0.0,>=1.7.4->spacy<3.7.0,>=3.6.0->en-core-web-sm==3.6.0) (4.7.1)\n",
            "Requirement already satisfied: charset-normalizer<4,>=2 in /usr/local/lib/python3.10/dist-packages (from requests<3.0.0,>=2.13.0->spacy<3.7.0,>=3.6.0->en-core-web-sm==3.6.0) (3.2.0)\n",
            "Requirement already satisfied: idna<4,>=2.5 in /usr/local/lib/python3.10/dist-packages (from requests<3.0.0,>=2.13.0->spacy<3.7.0,>=3.6.0->en-core-web-sm==3.6.0) (3.4)\n",
            "Requirement already satisfied: urllib3<3,>=1.21.1 in /usr/local/lib/python3.10/dist-packages (from requests<3.0.0,>=2.13.0->spacy<3.7.0,>=3.6.0->en-core-web-sm==3.6.0) (2.0.4)\n",
            "Requirement already satisfied: certifi>=2017.4.17 in /usr/local/lib/python3.10/dist-packages (from requests<3.0.0,>=2.13.0->spacy<3.7.0,>=3.6.0->en-core-web-sm==3.6.0) (2023.7.22)\n",
            "Requirement already satisfied: blis<0.8.0,>=0.7.8 in /usr/local/lib/python3.10/dist-packages (from thinc<8.2.0,>=8.1.8->spacy<3.7.0,>=3.6.0->en-core-web-sm==3.6.0) (0.7.10)\n",
            "Requirement already satisfied: confection<1.0.0,>=0.0.1 in /usr/local/lib/python3.10/dist-packages (from thinc<8.2.0,>=8.1.8->spacy<3.7.0,>=3.6.0->en-core-web-sm==3.6.0) (0.1.1)\n",
            "Requirement already satisfied: click<9.0.0,>=7.1.1 in /usr/local/lib/python3.10/dist-packages (from typer<0.10.0,>=0.3.0->spacy<3.7.0,>=3.6.0->en-core-web-sm==3.6.0) (8.1.7)\n",
            "Requirement already satisfied: MarkupSafe>=2.0 in /usr/local/lib/python3.10/dist-packages (from jinja2->spacy<3.7.0,>=3.6.0->en-core-web-sm==3.6.0) (2.1.3)\n",
            "\u001b[38;5;2m✔ Download and installation successful\u001b[0m\n",
            "You can now load the package via spacy.load('en_core_web_sm')\n",
            "Requirement already satisfied: numpy in /usr/local/lib/python3.10/dist-packages (1.23.5)\n",
            "Requirement already satisfied: pandas in /usr/local/lib/python3.10/dist-packages (1.5.3)\n",
            "Requirement already satisfied: python-dateutil>=2.8.1 in /usr/local/lib/python3.10/dist-packages (from pandas) (2.8.2)\n",
            "Requirement already satisfied: pytz>=2020.1 in /usr/local/lib/python3.10/dist-packages (from pandas) (2023.3)\n",
            "Requirement already satisfied: numpy>=1.21.0 in /usr/local/lib/python3.10/dist-packages (from pandas) (1.23.5)\n",
            "Requirement already satisfied: six>=1.5 in /usr/local/lib/python3.10/dist-packages (from python-dateutil>=2.8.1->pandas) (1.16.0)\n",
            "Requirement already satisfied: scikit-learn in /usr/local/lib/python3.10/dist-packages (1.2.2)\n",
            "Requirement already satisfied: numpy>=1.17.3 in /usr/local/lib/python3.10/dist-packages (from scikit-learn) (1.23.5)\n",
            "Requirement already satisfied: scipy>=1.3.2 in /usr/local/lib/python3.10/dist-packages (from scikit-learn) (1.10.1)\n",
            "Requirement already satisfied: joblib>=1.1.1 in /usr/local/lib/python3.10/dist-packages (from scikit-learn) (1.3.2)\n",
            "Requirement already satisfied: threadpoolctl>=2.0.0 in /usr/local/lib/python3.10/dist-packages (from scikit-learn) (3.2.0)\n",
            "Requirement already satisfied: matplotlib in /usr/local/lib/python3.10/dist-packages (3.2.2)\n",
            "Requirement already satisfied: cycler>=0.10 in /usr/local/lib/python3.10/dist-packages (from matplotlib) (0.11.0)\n",
            "Requirement already satisfied: kiwisolver>=1.0.1 in /usr/local/lib/python3.10/dist-packages (from matplotlib) (1.4.4)\n",
            "Requirement already satisfied: numpy>=1.11 in /usr/local/lib/python3.10/dist-packages (from matplotlib) (1.23.5)\n",
            "Requirement already satisfied: pyparsing!=2.0.4,!=2.1.2,!=2.1.6,>=2.0.1 in /usr/local/lib/python3.10/dist-packages (from matplotlib) (3.1.1)\n",
            "Requirement already satisfied: python-dateutil>=2.1 in /usr/local/lib/python3.10/dist-packages (from matplotlib) (2.8.2)\n",
            "Requirement already satisfied: six>=1.5 in /usr/local/lib/python3.10/dist-packages (from python-dateutil>=2.1->matplotlib) (1.16.0)\n"
          ]
        }
      ],
      "source": [
        "!python -m spacy download en_core_web_sm\n",
        "!pip install numpy\n",
        "!pip install pandas\n",
        "!pip install scikit-learn\n",
        "!pip install matplotlib"
      ]
    },
    {
      "cell_type": "code",
      "execution_count": 10,
      "metadata": {
        "colab": {
          "base_uri": "https://localhost:8080/"
        },
        "id": "GKCUPtvnk9wY",
        "outputId": "6126b2f3-b869-478e-b299-018f83f2cb70"
      },
      "outputs": [
        {
          "name": "stdout",
          "output_type": "stream",
          "text": [
            "[-2.44864374e-01 -1.56845257e-01 -5.19747622e-02  5.86494267e-01\n",
            "  8.10811967e-02 -1.65754989e-01  7.57052720e-01  2.63185889e-01\n",
            "  1.40734492e-02  2.51211464e-01  2.43307427e-01 -2.79111534e-01\n",
            " -3.70179832e-01  5.22314429e-01 -5.23915410e-01  4.84695425e-03\n",
            "  4.30857569e-01 -2.19760254e-01 -3.72532457e-01  1.71566337e-01\n",
            " -2.67529279e-01  2.24802848e-02 -3.03287357e-01 -1.04288436e-01\n",
            "  1.51315406e-01 -5.31261384e-01  4.36048269e-01  2.97305524e-01\n",
            "  4.72418487e-01  3.90211403e-01  2.69951403e-01  2.36672014e-01\n",
            "  4.59462464e-01 -4.97865111e-01 -1.82451054e-01 -1.67997599e-01\n",
            "  1.93978697e-01  5.16766071e-01 -2.88335413e-01  3.74710053e-01\n",
            " -1.11499667e-01  3.33659947e-01  5.49611822e-02  2.53970414e-01\n",
            " -5.02043903e-01  3.85194987e-01 -1.86397389e-01  8.60191345e-01\n",
            "  2.11835742e-01 -1.24764726e-01 -7.09948778e-01  7.70933092e-01\n",
            " -1.79754198e-01 -6.63751960e-01 -4.01271343e-01  1.83464423e-01\n",
            " -2.96254933e-01  7.63848484e-01 -3.35624158e-01 -1.81755573e-01\n",
            "  5.62856086e-02 -5.20981967e-01  2.32470542e-01  7.93596357e-02\n",
            "  1.17028512e-01 -1.91331297e-01  2.83491552e-01  3.67665291e-03\n",
            "  3.98660034e-01 -5.55250108e-01  2.48089619e-02  2.39709094e-01\n",
            "  3.95606980e-02 -3.22076678e-01 -6.04971290e-01 -7.20350385e-01\n",
            " -9.31409597e-02 -8.10149968e-01 -5.13003230e-01 -3.73546213e-01\n",
            " -2.60708272e-01  1.43927217e-01 -2.70993322e-01 -6.63320005e-01\n",
            "  6.42718398e-04  1.37684375e-01  2.20302776e-01  4.54716794e-02\n",
            " -2.09064916e-01  3.36762726e-01 -1.24832727e-01 -4.11891073e-01\n",
            "  1.14090490e+00 -2.19411142e-02 -4.46765989e-01  4.73975614e-02]\n"
          ]
        }
      ],
      "source": [
        "import spacy\n",
        "import en_core_web_sm\n",
        "\n",
        "nlp = en_core_web_sm.load()\n",
        "\n",
        "doc = nlp(\"Canada is a large country\")\n",
        "\n",
        "print(doc.vector)"
      ]
    },
    {
      "cell_type": "code",
      "execution_count": 18,
      "metadata": {
        "id": "V_1HP19cT-BB"
      },
      "outputs": [],
      "source": [
        "import pandas as pd\n",
        "from sklearn.feature_extraction.text import CountVectorizer\n",
        "from sklearn.feature_extraction import _stop_words"
      ]
    },
    {
      "cell_type": "code",
      "execution_count": 19,
      "metadata": {
        "id": "c173gaNBTard"
      },
      "outputs": [],
      "source": [
        "try:\n",
        "  imported_data = pd.read_csv('sample_data/data.csv',encoding = \"ISO-8859-1\")\n",
        "except Exception:\n",
        "  print(\"COuldn't import the data\")"
      ]
    },
    {
      "cell_type": "code",
      "execution_count": 21,
      "metadata": {
        "colab": {
          "base_uri": "https://localhost:8080/",
          "height": 34
        },
        "id": "1-B2AnogYmqN",
        "outputId": "a1348ba9-333d-45ca-ba19-863bd1728276"
      },
      "outputs": [
        {
          "data": {
            "text/plain": [
              "(8000, 15)"
            ]
          },
          "metadata": {},
          "output_type": "display_data"
        }
      ],
      "source": [
        "display(imported_data.shape)"
      ]
    },
    {
      "cell_type": "code",
      "execution_count": 24,
      "metadata": {
        "colab": {
          "base_uri": "https://localhost:8080/"
        },
        "id": "OGrHtrZAT_VG",
        "outputId": "d21ad4eb-7b26-4b66-c1ec-7c3be0837255"
      },
      "outputs": [
        {
          "name": "stdout",
          "output_type": "stream",
          "text": [
            "no          6571\n",
            "yes         1420\n",
            "not sure       9\n",
            "Name: relevance, dtype: int64\n"
          ]
        }
      ],
      "source": [
        "print(imported_data['relevance'].value_counts())"
      ]
    },
    {
      "cell_type": "code",
      "execution_count": 27,
      "metadata": {
        "colab": {
          "base_uri": "https://localhost:8080/"
        },
        "id": "aHgTIpL1ZdWU",
        "outputId": "3a23f62f-1c0c-425f-d041-61fb22455f49"
      },
      "outputs": [
        {
          "name": "stdout",
          "output_type": "stream",
          "text": [
            "(8000, 15)\n"
          ]
        }
      ],
      "source": [
        "print(imported_data.shape)"
      ]
    },
    {
      "cell_type": "code",
      "execution_count": 28,
      "metadata": {
        "colab": {
          "base_uri": "https://localhost:8080/"
        },
        "id": "SyQIoV_6Zu36",
        "outputId": "04d71a8d-198e-4c68-8a26-975c2b544738"
      },
      "outputs": [
        {
          "data": {
            "text/plain": [
              "no          0.821375\n",
              "yes         0.177500\n",
              "not sure    0.001125\n",
              "Name: relevance, dtype: float64"
            ]
          },
          "execution_count": 28,
          "metadata": {},
          "output_type": "execute_result"
        }
      ],
      "source": [
        "imported_data['relevance'].value_counts()/imported_data.shape[0]"
      ]
    },
    {
      "cell_type": "code",
      "execution_count": 30,
      "metadata": {
        "colab": {
          "base_uri": "https://localhost:8080/"
        },
        "id": "HT5y8fxuaGZd",
        "outputId": "fd0442db-7d27-4431-937f-12ad8b28b155"
      },
      "outputs": [
        {
          "data": {
            "text/plain": [
              "(7991, 15)"
            ]
          },
          "execution_count": 30,
          "metadata": {},
          "output_type": "execute_result"
        }
      ],
      "source": [
        "# Would like only assured data\n",
        "imported_data = imported_data[imported_data.relevance != \"not sure\"]\n",
        "imported_data.shape"
      ]
    },
    {
      "cell_type": "code",
      "execution_count": 34,
      "metadata": {
        "colab": {
          "base_uri": "https://localhost:8080/",
          "height": 848
        },
        "id": "4p_d8u1oamt6",
        "outputId": "ccfbf8b1-d383-49eb-d80e-205f41fa29ae"
      },
      "outputs": [
        {
          "data": {
            "text/html": [
              "\n",
              "  <div id=\"df-d2c72987-7e63-4e05-aed4-6546d0bf1979\" class=\"colab-df-container\">\n",
              "    <div>\n",
              "<style scoped>\n",
              "    .dataframe tbody tr th:only-of-type {\n",
              "        vertical-align: middle;\n",
              "    }\n",
              "\n",
              "    .dataframe tbody tr th {\n",
              "        vertical-align: top;\n",
              "    }\n",
              "\n",
              "    .dataframe thead th {\n",
              "        text-align: right;\n",
              "    }\n",
              "</style>\n",
              "<table border=\"1\" class=\"dataframe\">\n",
              "  <thead>\n",
              "    <tr style=\"text-align: right;\">\n",
              "      <th></th>\n",
              "      <th>text</th>\n",
              "    </tr>\n",
              "  </thead>\n",
              "  <tbody>\n",
              "    <tr>\n",
              "      <th>0</th>\n",
              "      <td>NEW YORK -- Yields on most certificates of dep...</td>\n",
              "    </tr>\n",
              "    <tr>\n",
              "      <th>1</th>\n",
              "      <td>The Wall Street Journal Online&lt;/br&gt;&lt;/br&gt;The Mo...</td>\n",
              "    </tr>\n",
              "    <tr>\n",
              "      <th>2</th>\n",
              "      <td>WASHINGTON -- In an effort to achieve banking ...</td>\n",
              "    </tr>\n",
              "    <tr>\n",
              "      <th>3</th>\n",
              "      <td>The statistics on the enormous costs of employ...</td>\n",
              "    </tr>\n",
              "    <tr>\n",
              "      <th>4</th>\n",
              "      <td>NEW YORK -- Indecision marked the dollar's ton...</td>\n",
              "    </tr>\n",
              "    <tr>\n",
              "      <th>...</th>\n",
              "      <td>...</td>\n",
              "    </tr>\n",
              "    <tr>\n",
              "      <th>7995</th>\n",
              "      <td>Secretary of Commerce Charles W. Sawyer said y...</td>\n",
              "    </tr>\n",
              "    <tr>\n",
              "      <th>7996</th>\n",
              "      <td>U.S. stocks inched up last week, overcoming co...</td>\n",
              "    </tr>\n",
              "    <tr>\n",
              "      <th>7997</th>\n",
              "      <td>Ben S. Bernanke cleared a key hurdle Thursday ...</td>\n",
              "    </tr>\n",
              "    <tr>\n",
              "      <th>7998</th>\n",
              "      <td>The White House's push to contract out many fe...</td>\n",
              "    </tr>\n",
              "    <tr>\n",
              "      <th>7999</th>\n",
              "      <td>NEW YORK. April 17-Automobile stocks put on th...</td>\n",
              "    </tr>\n",
              "  </tbody>\n",
              "</table>\n",
              "<p>7991 rows × 1 columns</p>\n",
              "</div>\n",
              "    <div class=\"colab-df-buttons\">\n",
              "\n",
              "  <div class=\"colab-df-container\">\n",
              "    <button class=\"colab-df-convert\" onclick=\"convertToInteractive('df-d2c72987-7e63-4e05-aed4-6546d0bf1979')\"\n",
              "            title=\"Convert this dataframe to an interactive table.\"\n",
              "            style=\"display:none;\">\n",
              "\n",
              "  <svg xmlns=\"http://www.w3.org/2000/svg\" height=\"24px\" viewBox=\"0 -960 960 960\">\n",
              "    <path d=\"M120-120v-720h720v720H120Zm60-500h600v-160H180v160Zm220 220h160v-160H400v160Zm0 220h160v-160H400v160ZM180-400h160v-160H180v160Zm440 0h160v-160H620v160ZM180-180h160v-160H180v160Zm440 0h160v-160H620v160Z\"/>\n",
              "  </svg>\n",
              "    </button>\n",
              "\n",
              "  <style>\n",
              "    .colab-df-container {\n",
              "      display:flex;\n",
              "      gap: 12px;\n",
              "    }\n",
              "\n",
              "    .colab-df-convert {\n",
              "      background-color: #E8F0FE;\n",
              "      border: none;\n",
              "      border-radius: 50%;\n",
              "      cursor: pointer;\n",
              "      display: none;\n",
              "      fill: #1967D2;\n",
              "      height: 32px;\n",
              "      padding: 0 0 0 0;\n",
              "      width: 32px;\n",
              "    }\n",
              "\n",
              "    .colab-df-convert:hover {\n",
              "      background-color: #E2EBFA;\n",
              "      box-shadow: 0px 1px 2px rgba(60, 64, 67, 0.3), 0px 1px 3px 1px rgba(60, 64, 67, 0.15);\n",
              "      fill: #174EA6;\n",
              "    }\n",
              "\n",
              "    .colab-df-buttons div {\n",
              "      margin-bottom: 4px;\n",
              "    }\n",
              "\n",
              "    [theme=dark] .colab-df-convert {\n",
              "      background-color: #3B4455;\n",
              "      fill: #D2E3FC;\n",
              "    }\n",
              "\n",
              "    [theme=dark] .colab-df-convert:hover {\n",
              "      background-color: #434B5C;\n",
              "      box-shadow: 0px 1px 3px 1px rgba(0, 0, 0, 0.15);\n",
              "      filter: drop-shadow(0px 1px 2px rgba(0, 0, 0, 0.3));\n",
              "      fill: #FFFFFF;\n",
              "    }\n",
              "  </style>\n",
              "\n",
              "    <script>\n",
              "      const buttonEl =\n",
              "        document.querySelector('#df-d2c72987-7e63-4e05-aed4-6546d0bf1979 button.colab-df-convert');\n",
              "      buttonEl.style.display =\n",
              "        google.colab.kernel.accessAllowed ? 'block' : 'none';\n",
              "\n",
              "      async function convertToInteractive(key) {\n",
              "        const element = document.querySelector('#df-d2c72987-7e63-4e05-aed4-6546d0bf1979');\n",
              "        const dataTable =\n",
              "          await google.colab.kernel.invokeFunction('convertToInteractive',\n",
              "                                                    [key], {});\n",
              "        if (!dataTable) return;\n",
              "\n",
              "        const docLinkHtml = 'Like what you see? Visit the ' +\n",
              "          '<a target=\"_blank\" href=https://colab.research.google.com/notebooks/data_table.ipynb>data table notebook</a>'\n",
              "          + ' to learn more about interactive tables.';\n",
              "        element.innerHTML = '';\n",
              "        dataTable['output_type'] = 'display_data';\n",
              "        await google.colab.output.renderOutput(dataTable, element);\n",
              "        const docLink = document.createElement('div');\n",
              "        docLink.innerHTML = docLinkHtml;\n",
              "        element.appendChild(docLink);\n",
              "      }\n",
              "    </script>\n",
              "  </div>\n",
              "\n",
              "\n",
              "<div id=\"df-7f50a888-4631-4e42-9a21-8cbf3d182544\">\n",
              "  <button class=\"colab-df-quickchart\" onclick=\"quickchart('df-7f50a888-4631-4e42-9a21-8cbf3d182544')\"\n",
              "            title=\"Suggest charts.\"\n",
              "            style=\"display:none;\">\n",
              "\n",
              "<svg xmlns=\"http://www.w3.org/2000/svg\" height=\"24px\"viewBox=\"0 0 24 24\"\n",
              "     width=\"24px\">\n",
              "    <g>\n",
              "        <path d=\"M19 3H5c-1.1 0-2 .9-2 2v14c0 1.1.9 2 2 2h14c1.1 0 2-.9 2-2V5c0-1.1-.9-2-2-2zM9 17H7v-7h2v7zm4 0h-2V7h2v10zm4 0h-2v-4h2v4z\"/>\n",
              "    </g>\n",
              "</svg>\n",
              "  </button>\n",
              "\n",
              "<style>\n",
              "  .colab-df-quickchart {\n",
              "    background-color: #E8F0FE;\n",
              "    border: none;\n",
              "    border-radius: 50%;\n",
              "    cursor: pointer;\n",
              "    display: none;\n",
              "    fill: #1967D2;\n",
              "    height: 32px;\n",
              "    padding: 0 0 0 0;\n",
              "    width: 32px;\n",
              "  }\n",
              "\n",
              "  .colab-df-quickchart:hover {\n",
              "    background-color: #E2EBFA;\n",
              "    box-shadow: 0px 1px 2px rgba(60, 64, 67, 0.3), 0px 1px 3px 1px rgba(60, 64, 67, 0.15);\n",
              "    fill: #174EA6;\n",
              "  }\n",
              "\n",
              "  [theme=dark] .colab-df-quickchart {\n",
              "    background-color: #3B4455;\n",
              "    fill: #D2E3FC;\n",
              "  }\n",
              "\n",
              "  [theme=dark] .colab-df-quickchart:hover {\n",
              "    background-color: #434B5C;\n",
              "    box-shadow: 0px 1px 3px 1px rgba(0, 0, 0, 0.15);\n",
              "    filter: drop-shadow(0px 1px 2px rgba(0, 0, 0, 0.3));\n",
              "    fill: #FFFFFF;\n",
              "  }\n",
              "</style>\n",
              "\n",
              "  <script>\n",
              "    async function quickchart(key) {\n",
              "      const charts = await google.colab.kernel.invokeFunction(\n",
              "          'suggestCharts', [key], {});\n",
              "    }\n",
              "    (() => {\n",
              "      let quickchartButtonEl =\n",
              "        document.querySelector('#df-7f50a888-4631-4e42-9a21-8cbf3d182544 button');\n",
              "      quickchartButtonEl.style.display =\n",
              "        google.colab.kernel.accessAllowed ? 'block' : 'none';\n",
              "    })();\n",
              "  </script>\n",
              "</div>\n",
              "    </div>\n",
              "  </div>\n"
            ],
            "text/plain": [
              "                                                   text\n",
              "0     NEW YORK -- Yields on most certificates of dep...\n",
              "1     The Wall Street Journal Online</br></br>The Mo...\n",
              "2     WASHINGTON -- In an effort to achieve banking ...\n",
              "3     The statistics on the enormous costs of employ...\n",
              "4     NEW YORK -- Indecision marked the dollar's ton...\n",
              "...                                                 ...\n",
              "7995  Secretary of Commerce Charles W. Sawyer said y...\n",
              "7996  U.S. stocks inched up last week, overcoming co...\n",
              "7997  Ben S. Bernanke cleared a key hurdle Thursday ...\n",
              "7998  The White House's push to contract out many fe...\n",
              "7999  NEW YORK. April 17-Automobile stocks put on th...\n",
              "\n",
              "[7991 rows x 1 columns]"
            ]
          },
          "metadata": {},
          "output_type": "display_data"
        },
        {
          "name": "stdout",
          "output_type": "stream",
          "text": [
            ":::::::::::::RELEVANCE:::::::::::\n"
          ]
        },
        {
          "data": {
            "text/html": [
              "\n",
              "  <div id=\"df-4ecbcf71-2614-44a4-a030-92a0f71b202d\" class=\"colab-df-container\">\n",
              "    <div>\n",
              "<style scoped>\n",
              "    .dataframe tbody tr th:only-of-type {\n",
              "        vertical-align: middle;\n",
              "    }\n",
              "\n",
              "    .dataframe tbody tr th {\n",
              "        vertical-align: top;\n",
              "    }\n",
              "\n",
              "    .dataframe thead th {\n",
              "        text-align: right;\n",
              "    }\n",
              "</style>\n",
              "<table border=\"1\" class=\"dataframe\">\n",
              "  <thead>\n",
              "    <tr style=\"text-align: right;\">\n",
              "      <th></th>\n",
              "      <th>relevance</th>\n",
              "    </tr>\n",
              "  </thead>\n",
              "  <tbody>\n",
              "    <tr>\n",
              "      <th>0</th>\n",
              "      <td>NaN</td>\n",
              "    </tr>\n",
              "    <tr>\n",
              "      <th>1</th>\n",
              "      <td>NaN</td>\n",
              "    </tr>\n",
              "    <tr>\n",
              "      <th>2</th>\n",
              "      <td>NaN</td>\n",
              "    </tr>\n",
              "    <tr>\n",
              "      <th>3</th>\n",
              "      <td>NaN</td>\n",
              "    </tr>\n",
              "    <tr>\n",
              "      <th>4</th>\n",
              "      <td>NaN</td>\n",
              "    </tr>\n",
              "    <tr>\n",
              "      <th>...</th>\n",
              "      <td>...</td>\n",
              "    </tr>\n",
              "    <tr>\n",
              "      <th>7995</th>\n",
              "      <td>NaN</td>\n",
              "    </tr>\n",
              "    <tr>\n",
              "      <th>7996</th>\n",
              "      <td>NaN</td>\n",
              "    </tr>\n",
              "    <tr>\n",
              "      <th>7997</th>\n",
              "      <td>NaN</td>\n",
              "    </tr>\n",
              "    <tr>\n",
              "      <th>7998</th>\n",
              "      <td>NaN</td>\n",
              "    </tr>\n",
              "    <tr>\n",
              "      <th>7999</th>\n",
              "      <td>NaN</td>\n",
              "    </tr>\n",
              "  </tbody>\n",
              "</table>\n",
              "<p>7991 rows × 1 columns</p>\n",
              "</div>\n",
              "    <div class=\"colab-df-buttons\">\n",
              "\n",
              "  <div class=\"colab-df-container\">\n",
              "    <button class=\"colab-df-convert\" onclick=\"convertToInteractive('df-4ecbcf71-2614-44a4-a030-92a0f71b202d')\"\n",
              "            title=\"Convert this dataframe to an interactive table.\"\n",
              "            style=\"display:none;\">\n",
              "\n",
              "  <svg xmlns=\"http://www.w3.org/2000/svg\" height=\"24px\" viewBox=\"0 -960 960 960\">\n",
              "    <path d=\"M120-120v-720h720v720H120Zm60-500h600v-160H180v160Zm220 220h160v-160H400v160Zm0 220h160v-160H400v160ZM180-400h160v-160H180v160Zm440 0h160v-160H620v160ZM180-180h160v-160H180v160Zm440 0h160v-160H620v160Z\"/>\n",
              "  </svg>\n",
              "    </button>\n",
              "\n",
              "  <style>\n",
              "    .colab-df-container {\n",
              "      display:flex;\n",
              "      gap: 12px;\n",
              "    }\n",
              "\n",
              "    .colab-df-convert {\n",
              "      background-color: #E8F0FE;\n",
              "      border: none;\n",
              "      border-radius: 50%;\n",
              "      cursor: pointer;\n",
              "      display: none;\n",
              "      fill: #1967D2;\n",
              "      height: 32px;\n",
              "      padding: 0 0 0 0;\n",
              "      width: 32px;\n",
              "    }\n",
              "\n",
              "    .colab-df-convert:hover {\n",
              "      background-color: #E2EBFA;\n",
              "      box-shadow: 0px 1px 2px rgba(60, 64, 67, 0.3), 0px 1px 3px 1px rgba(60, 64, 67, 0.15);\n",
              "      fill: #174EA6;\n",
              "    }\n",
              "\n",
              "    .colab-df-buttons div {\n",
              "      margin-bottom: 4px;\n",
              "    }\n",
              "\n",
              "    [theme=dark] .colab-df-convert {\n",
              "      background-color: #3B4455;\n",
              "      fill: #D2E3FC;\n",
              "    }\n",
              "\n",
              "    [theme=dark] .colab-df-convert:hover {\n",
              "      background-color: #434B5C;\n",
              "      box-shadow: 0px 1px 3px 1px rgba(0, 0, 0, 0.15);\n",
              "      filter: drop-shadow(0px 1px 2px rgba(0, 0, 0, 0.3));\n",
              "      fill: #FFFFFF;\n",
              "    }\n",
              "  </style>\n",
              "\n",
              "    <script>\n",
              "      const buttonEl =\n",
              "        document.querySelector('#df-4ecbcf71-2614-44a4-a030-92a0f71b202d button.colab-df-convert');\n",
              "      buttonEl.style.display =\n",
              "        google.colab.kernel.accessAllowed ? 'block' : 'none';\n",
              "\n",
              "      async function convertToInteractive(key) {\n",
              "        const element = document.querySelector('#df-4ecbcf71-2614-44a4-a030-92a0f71b202d');\n",
              "        const dataTable =\n",
              "          await google.colab.kernel.invokeFunction('convertToInteractive',\n",
              "                                                    [key], {});\n",
              "        if (!dataTable) return;\n",
              "\n",
              "        const docLinkHtml = 'Like what you see? Visit the ' +\n",
              "          '<a target=\"_blank\" href=https://colab.research.google.com/notebooks/data_table.ipynb>data table notebook</a>'\n",
              "          + ' to learn more about interactive tables.';\n",
              "        element.innerHTML = '';\n",
              "        dataTable['output_type'] = 'display_data';\n",
              "        await google.colab.output.renderOutput(dataTable, element);\n",
              "        const docLink = document.createElement('div');\n",
              "        docLink.innerHTML = docLinkHtml;\n",
              "        element.appendChild(docLink);\n",
              "      }\n",
              "    </script>\n",
              "  </div>\n",
              "\n",
              "\n",
              "<div id=\"df-274641b7-aa68-4abe-b99a-3ce76e2a1b9b\">\n",
              "  <button class=\"colab-df-quickchart\" onclick=\"quickchart('df-274641b7-aa68-4abe-b99a-3ce76e2a1b9b')\"\n",
              "            title=\"Suggest charts.\"\n",
              "            style=\"display:none;\">\n",
              "\n",
              "<svg xmlns=\"http://www.w3.org/2000/svg\" height=\"24px\"viewBox=\"0 0 24 24\"\n",
              "     width=\"24px\">\n",
              "    <g>\n",
              "        <path d=\"M19 3H5c-1.1 0-2 .9-2 2v14c0 1.1.9 2 2 2h14c1.1 0 2-.9 2-2V5c0-1.1-.9-2-2-2zM9 17H7v-7h2v7zm4 0h-2V7h2v10zm4 0h-2v-4h2v4z\"/>\n",
              "    </g>\n",
              "</svg>\n",
              "  </button>\n",
              "\n",
              "<style>\n",
              "  .colab-df-quickchart {\n",
              "    background-color: #E8F0FE;\n",
              "    border: none;\n",
              "    border-radius: 50%;\n",
              "    cursor: pointer;\n",
              "    display: none;\n",
              "    fill: #1967D2;\n",
              "    height: 32px;\n",
              "    padding: 0 0 0 0;\n",
              "    width: 32px;\n",
              "  }\n",
              "\n",
              "  .colab-df-quickchart:hover {\n",
              "    background-color: #E2EBFA;\n",
              "    box-shadow: 0px 1px 2px rgba(60, 64, 67, 0.3), 0px 1px 3px 1px rgba(60, 64, 67, 0.15);\n",
              "    fill: #174EA6;\n",
              "  }\n",
              "\n",
              "  [theme=dark] .colab-df-quickchart {\n",
              "    background-color: #3B4455;\n",
              "    fill: #D2E3FC;\n",
              "  }\n",
              "\n",
              "  [theme=dark] .colab-df-quickchart:hover {\n",
              "    background-color: #434B5C;\n",
              "    box-shadow: 0px 1px 3px 1px rgba(0, 0, 0, 0.15);\n",
              "    filter: drop-shadow(0px 1px 2px rgba(0, 0, 0, 0.3));\n",
              "    fill: #FFFFFF;\n",
              "  }\n",
              "</style>\n",
              "\n",
              "  <script>\n",
              "    async function quickchart(key) {\n",
              "      const charts = await google.colab.kernel.invokeFunction(\n",
              "          'suggestCharts', [key], {});\n",
              "    }\n",
              "    (() => {\n",
              "      let quickchartButtonEl =\n",
              "        document.querySelector('#df-274641b7-aa68-4abe-b99a-3ce76e2a1b9b button');\n",
              "      quickchartButtonEl.style.display =\n",
              "        google.colab.kernel.accessAllowed ? 'block' : 'none';\n",
              "    })();\n",
              "  </script>\n",
              "</div>\n",
              "    </div>\n",
              "  </div>\n"
            ],
            "text/plain": [
              "      relevance\n",
              "0           NaN\n",
              "1           NaN\n",
              "2           NaN\n",
              "3           NaN\n",
              "4           NaN\n",
              "...         ...\n",
              "7995        NaN\n",
              "7996        NaN\n",
              "7997        NaN\n",
              "7998        NaN\n",
              "7999        NaN\n",
              "\n",
              "[7991 rows x 1 columns]"
            ]
          },
          "metadata": {},
          "output_type": "display_data"
        }
      ],
      "source": [
        "imported_data['relevance'] = imported_data.relevance.map({'yes':1,'no':0})\n",
        "text = imported_data[['text']]\n",
        "relevance = imported_data[['relevance']]\n",
        "display(text)\n",
        "print(\":::::::::::::RELEVANCE:::::::::::\")\n",
        "display(relevance)"
      ]
    },
    {
      "cell_type": "code",
      "execution_count": 35,
      "metadata": {
        "id": "W1uVt3mja_J1"
      },
      "outputs": [],
      "source": [
        "# Stop words removal\n",
        "import string\n",
        "stopwords = _stop_words.ENGLISH_STOP_WORDS\n",
        "def process(d):\n",
        "  d = \"\".join([char for char in d if char not in string.punctuation and not char.isdigit()])\n",
        "  d = \"\".join([char for char in d if string not in stopwords])\n",
        "  return d"
      ]
    },
    {
      "cell_type": "code",
      "execution_count": 49,
      "metadata": {
        "colab": {
          "base_uri": "https://localhost:8080/"
        },
        "id": "PNzq9fDAdoU_",
        "outputId": "4c73f9d7-458b-415e-9548-d3767a42d464"
      },
      "outputs": [
        {
          "name": "stdout",
          "output_type": "stream",
          "text": [
            "(7991,) (7991,)\n",
            "---------Printing y ----\n",
            "0      NaN\n",
            "1      NaN\n",
            "2      NaN\n",
            "3      NaN\n",
            "4      NaN\n",
            "        ..\n",
            "7995   NaN\n",
            "7996   NaN\n",
            "7997   NaN\n",
            "7998   NaN\n",
            "7999   NaN\n",
            "Name: relevance, Length: 7991, dtype: float64\n",
            "(5993,) (5993,)\n",
            "(1998,) (1998,)\n"
          ]
        }
      ],
      "source": [
        "import sklearn\n",
        "from sklearn.model_selection import train_test_split\n",
        "\n",
        "X = imported_data.text\n",
        "y = imported_data.relevance\n",
        "print(X.shape, y.shape)\n",
        "print(\"---------Printing y ----\")\n",
        "print(y)\n",
        "X_train, X_test, y_train,y_test = train_test_split(X,y, random_state=1)\n",
        "print(X_train.shape, y_train.shape)\n",
        "print(X_test.shape, y_test.shape)\n"
      ]
    },
    {
      "cell_type": "code",
      "execution_count": 39,
      "metadata": {
        "colab": {
          "base_uri": "https://localhost:8080/"
        },
        "id": "PSYi750LeaEk",
        "outputId": "3a91e5f3-1632-4f39-c980-a62b77430c87"
      },
      "outputs": [
        {
          "name": "stdout",
          "output_type": "stream",
          "text": [
            "(5993, 66351) (1998, 66351)\n"
          ]
        }
      ],
      "source": [
        "v = CountVectorizer(preprocessor = process)\n",
        "X_train_dtm = v.fit_transform(X_train)\n",
        "X_test_dtm = v.transform(X_test)\n",
        "\n",
        "print(X_train_dtm.shape,X_test_dtm.shape)"
      ]
    },
    {
      "cell_type": "code",
      "execution_count": 47,
      "metadata": {
        "colab": {
          "base_uri": "https://localhost:8080/"
        },
        "id": "OqXXDxLHfiKO",
        "outputId": "b78507c1-24cb-40ee-c18d-0a9013b946a0"
      },
      "outputs": [
        {
          "name": "stdout",
          "output_type": "stream",
          "text": [
            "::::Training feature y ::::\n",
            "3002   NaN\n",
            "2002   NaN\n",
            "486    NaN\n",
            "5426   NaN\n",
            "440    NaN\n",
            "        ..\n",
            "7944   NaN\n",
            "5198   NaN\n",
            "3985   NaN\n",
            "235    NaN\n",
            "5163   NaN\n",
            "Name: relevance, Length: 5993, dtype: float64\n",
            "  (0, 764)\t1\n",
            "  (0, 1095)\t1\n",
            "  (0, 1299)\t1\n",
            "  (0, 3105)\t1\n",
            "  (0, 5326)\t1\n",
            "  (0, 7960)\t1\n",
            "  (0, 8836)\t1\n",
            "  (0, 9095)\t1\n",
            "  (0, 9207)\t1\n",
            "  (0, 9430)\t1\n",
            "  (0, 9484)\t1\n",
            "  (0, 12679)\t1\n",
            "  (0, 16257)\t1\n",
            "  (0, 16779)\t1\n",
            "  (0, 17438)\t1\n",
            "  (0, 17985)\t3\n",
            "  (0, 18147)\t1\n",
            "  (0, 18648)\t1\n",
            "  (0, 19092)\t1\n",
            "  (0, 19627)\t1\n",
            "  (0, 20489)\t1\n",
            "  (0, 21010)\t1\n",
            "  (0, 21065)\t3\n",
            "  (0, 21176)\t1\n",
            "  (0, 21303)\t1\n",
            "  :\t:\n",
            "  (1997, 54236)\t1\n",
            "  (1997, 54308)\t1\n",
            "  (1997, 56615)\t1\n",
            "  (1997, 57342)\t1\n",
            "  (1997, 57492)\t1\n",
            "  (1997, 57863)\t1\n",
            "  (1997, 57898)\t1\n",
            "  (1997, 58543)\t1\n",
            "  (1997, 59537)\t1\n",
            "  (1997, 59569)\t6\n",
            "  (1997, 59615)\t2\n",
            "  (1997, 59770)\t1\n",
            "  (1997, 60251)\t5\n",
            "  (1997, 61235)\t1\n",
            "  (1997, 61313)\t1\n",
            "  (1997, 61898)\t1\n",
            "  (1997, 62296)\t1\n",
            "  (1997, 63012)\t1\n",
            "  (1997, 63460)\t1\n",
            "  (1997, 63504)\t1\n",
            "  (1997, 63522)\t1\n",
            "  (1997, 63787)\t2\n",
            "  (1997, 63793)\t1\n",
            "  (1997, 64448)\t1\n",
            "  (1997, 64750)\t1\n"
          ]
        }
      ],
      "source": [
        "# Multinomial Naive Bayes Classifier usage\n",
        "from sklearn.naive_bayes import MultinomialNB\n",
        "from sklearn import metrics\n",
        "from sklearn.metrics import confusion_matrix\n",
        "\n",
        "naiveb = MultinomialNB()\n",
        "print(\"::::Training feature y ::::\")\n",
        "print(y_train)\n",
        "#%time naiveb.fit(X_train_dtm, y_train)\n",
        "print(X_test_dtm)\n",
        "#y_pred_class = naiveb.predict(X_test_dtm)\n",
        "\n",
        "#print(\"Accuracy: \", metrics.accuracy_score(y_test, y_pred_class))\n",
        "# print the confusion matrix\n",
        "#cnf_matrix = confusion_matrix(y_test, y_pred_class)\n",
        "\n"
      ]
    },
    {
      "cell_type": "code",
      "execution_count": null,
      "metadata": {
        "id": "Twwpdiu7hh3z"
      },
      "outputs": [],
      "source": [
        "import matplotlib as mpl\n",
        "import matplotlib.cm as cm\n",
        "import matplotlib.pyplot as plt\n",
        "\n",
        "plt.figure(figsize=(8,6))\n",
        "plot_confusion_matrix(cnf_matrix, classes=['Not Relevant','Relevant'],normalize=True,\n",
        "                      title='Confusion matrix with max 5000 features')"
      ]
    },
    {
      "cell_type": "code",
      "execution_count": null,
      "metadata": {
        "id": "WxEKzb-5gBJN"
      },
      "outputs": [],
      "source": []
    }
  ],
  "metadata": {
    "colab": {
      "provenance": []
    },
    "kernelspec": {
      "display_name": "Python 3",
      "name": "python3"
    },
    "language_info": {
      "name": "python"
    }
  },
  "nbformat": 4,
  "nbformat_minor": 0
}
