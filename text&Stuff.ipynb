{
  "nbformat": 4,
  "nbformat_minor": 0,
  "metadata": {
    "colab": {
      "provenance": []
    },
    "kernelspec": {
      "name": "python3",
      "display_name": "Python 3"
    },
    "language_info": {
      "name": "python"
    }
  },
  "cells": [
    {
      "cell_type": "code",
      "execution_count": null,
      "metadata": {
        "id": "bFBx32VmkUel"
      },
      "outputs": [],
      "source": []
    },
    {
      "cell_type": "code",
      "source": [
        "# Encoding stuff\n",
        "docs = [\"Alex is the CEO\",\"our CEO is here\",\"Joker is a Joke\",\"Food was eaten\"]\n",
        "v = {} #vocabulary\n",
        "cp = 0 # counting variable\n",
        "for d in docs:\n",
        "  for w in d.split():\n",
        "    if w not in v:\n",
        "      cp = cp+1\n",
        "      v[w] = cp\n",
        "print(v)"
      ],
      "metadata": {
        "colab": {
          "base_uri": "https://localhost:8080/"
        },
        "id": "bCnnSa5QolEm",
        "outputId": "402203af-1d66-4f26-8850-46f5cae27b56"
      },
      "execution_count": 1,
      "outputs": [
        {
          "output_type": "stream",
          "name": "stdout",
          "text": [
            "{'Alex': 1, 'is': 2, 'the': 3, 'CEO': 4, 'our': 5, 'here': 6, 'Joker': 7, 'a': 8, 'Joke': 9, 'Food': 10, 'was': 11, 'eaten': 12}\n"
          ]
        }
      ]
    },
    {
      "cell_type": "code",
      "source": [
        "def one_hot_vect_technique(input):\n",
        "  encoding = []\n",
        "  for w in input.split():\n",
        "    x = [0]*len(v)\n",
        "    if w in v:\n",
        "      x[v[w]-1] = 1\n",
        "    encoding.append(x)\n",
        "  return encoding"
      ],
      "metadata": {
        "id": "BEqPIIPtpl8l"
      },
      "execution_count": 4,
      "outputs": []
    },
    {
      "cell_type": "code",
      "source": [
        "print(docs[1])\n",
        "one_hot_vect_technique(docs[1])"
      ],
      "metadata": {
        "colab": {
          "base_uri": "https://localhost:8080/"
        },
        "id": "u1f8muE0p8Qb",
        "outputId": "651f1f5e-2537-4f0c-9c65-0fef5830a1b1"
      },
      "execution_count": 5,
      "outputs": [
        {
          "output_type": "stream",
          "name": "stdout",
          "text": [
            "our CEO is here\n"
          ]
        },
        {
          "output_type": "execute_result",
          "data": {
            "text/plain": [
              "[[0, 0, 0, 0, 1, 0, 0, 0, 0, 0, 0, 0],\n",
              " [0, 0, 0, 1, 0, 0, 0, 0, 0, 0, 0, 0],\n",
              " [0, 1, 0, 0, 0, 0, 0, 0, 0, 0, 0, 0],\n",
              " [0, 0, 0, 0, 0, 1, 0, 0, 0, 0, 0, 0]]"
            ]
          },
          "metadata": {},
          "execution_count": 5
        }
      ]
    }
  ]
}